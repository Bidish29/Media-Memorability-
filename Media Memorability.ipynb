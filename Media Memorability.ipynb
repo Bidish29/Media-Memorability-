{
 "cells": [
  {
   "cell_type": "markdown",
   "metadata": {
    "colab_type": "text",
    "id": "9LVblPsS7JZ7"
   },
   "source": [
    "# **CA684 Machine Learning - Media Memorability**\n",
    "\n",
    "## Predicting Media Memorability using various Machine Learning models and features.\n",
    "\n",
    "**Task description:** The MediaEval's media memorability task focues on the memorability of videos. The aim of this project is to predict the capability of predicting how memorable a video can be."
   ]
  },
  {
   "cell_type": "markdown",
   "metadata": {
    "colab_type": "text",
    "id": "EYUEKUV8-08y"
   },
   "source": [
    "## **Index**\n",
    "\n",
    "**1. Importing the necessary libraries.**\n",
    "\n",
    "**2. Defining all the functions needed for the analysis.**\n",
    "\n",
    "**3. Loading the features needed for the analysis.**\n",
    "\n",
    "**4.Exploring different models and features.**\n",
    "\n",
    "**5. Final Predictions**\n",
    "    \n",
    "\n",
    "\n",
    "\n",
    "\n",
    "\n",
    "\n"
   ]
  },
  {
   "cell_type": "markdown",
   "metadata": {
    "colab_type": "text",
    "id": "c35Sfpwa96v8"
   },
   "source": [
    "### **1. Importing all the necessary libraries.**"
   ]
  },
  {
   "cell_type": "code",
   "execution_count": 1,
   "metadata": {
    "colab": {
     "base_uri": "https://localhost:8080/",
     "height": 104
    },
    "colab_type": "code",
    "executionInfo": {
     "elapsed": 32719,
     "status": "ok",
     "timestamp": 1585591869439,
     "user": {
      "displayName": "Bidish Basu",
      "photoUrl": "https://lh3.googleusercontent.com/a-/AOh14GjGzHxz_XveuB8vqHb7LYdoL9-1U9SivjvcbtRj=s64",
      "userId": "13410332490920392101"
     },
     "user_tz": -60
    },
    "id": "ZSakYzTjWzR5",
    "outputId": "9521c980-070d-42f6-f4f4-fe475f0a9d73"
   },
   "outputs": [
    {
     "name": "stdout",
     "output_type": "stream",
     "text": [
      "Requirement already satisfied: pyprind in c:\\users\\bidis\\anaconda3\\lib\\site-packages (2.11.2)\n"
     ]
    }
   ],
   "source": [
    "!pip install pyprind"
   ]
  },
  {
   "cell_type": "code",
   "execution_count": 2,
   "metadata": {
    "colab": {},
    "colab_type": "code",
    "id": "lI0mT1yqWzUo"
   },
   "outputs": [
    {
     "name": "stderr",
     "output_type": "stream",
     "text": [
      "Using TensorFlow backend.\n"
     ]
    },
    {
     "data": {
      "text/plain": [
       "'1.14.0'"
      ]
     },
     "execution_count": 2,
     "metadata": {},
     "output_type": "execute_result"
    }
   ],
   "source": [
    "import pandas as pd\n",
    "import numpy as np\n",
    "import pyprind\n",
    "import matplotlib.pyplot as plt\n",
    "import os\n",
    "from keras import Sequential\n",
    "from keras import layers\n",
    "from keras import regularizers\n",
    "from keras import preprocessing\n",
    "from keras.layers import Dense\n",
    "from keras.layers import Dropout\n",
    "from keras.models import Sequential\n",
    "from keras.callbacks import EarlyStopping\n",
    "from string import punctuation\n",
    "from collections import Counter\n",
    "from sklearn.model_selection import train_test_split\n",
    "from sklearn.tree import DecisionTreeRegressor\n",
    "from sklearn.linear_model import LinearRegression\n",
    "from sklearn.ensemble import BaggingRegressor\n",
    "from sklearn import tree\n",
    "from sklearn.feature_extraction.text import HashingVectorizer\n",
    "\n",
    "# for reproducability\n",
    "from numpy.random import seed\n",
    "seed(1)\n",
    "from tensorflow import set_random_seed\n",
    "set_random_seed(1)\n",
    "\n",
    "import tensorflow as tf\n",
    "tf.__version__\n"
   ]
  },
  {
   "cell_type": "markdown",
   "metadata": {
    "colab_type": "text",
    "id": "5e_y2-TR-Kvl"
   },
   "source": [
    "## 2 Defining all the functions needed for the analysis.\n",
    "\n",
    "**The following function will help us calculate the Spearman’s rank correlation between the predicted memorability scores\n",
    "and the ground-truth memorability scores computed over all test\n",
    "videos which is the evaluation metric.**"
   ]
  },
  {
   "cell_type": "code",
   "execution_count": 3,
   "metadata": {
    "colab": {},
    "colab_type": "code",
    "id": "wge3GfjFWzXG"
   },
   "outputs": [],
   "source": [
    "# Function to calculate the Spearman's Correlation Coefficient.\n",
    "\n",
    "def Get_score(Y_pred,Y_true):\n",
    "    '''Calculate the Spearmann\"s correlation coefficient'''\n",
    "    Y_pred = np.squeeze(Y_pred)\n",
    "    Y_true = np.squeeze(Y_true)\n",
    "    if Y_pred.shape != Y_true.shape:\n",
    "        print('Input shapes don\\'t match!')\n",
    "    else:\n",
    "        if len(Y_pred.shape) == 1:\n",
    "            Res = pd.DataFrame({'Y_true':Y_true,'Y_pred':Y_pred})\n",
    "            score_mat = Res[['Y_true','Y_pred']].corr(method='spearman',min_periods=1)\n",
    "            print('The Spearman\\'s correlation coefficient is: %.3f' % score_mat.iloc[1][0])\n",
    "        else:\n",
    "            for ii in range(Y_pred.shape[1]):\n",
    "                Get_score(Y_pred[:,ii],Y_true[:,ii])"
   ]
  },
  {
   "cell_type": "markdown",
   "metadata": {
    "colab_type": "text",
    "id": "F8RZA9FSAGc9"
   },
   "source": [
    "**The following function will load the captions and the labels.**"
   ]
  },
  {
   "cell_type": "code",
   "execution_count": 4,
   "metadata": {
    "colab": {},
    "colab_type": "code",
    "id": "CpsoeobqXGpD"
   },
   "outputs": [],
   "source": [
    "#Function to load labels and captions\n",
    "def read_caps(fname):\n",
    "    \"\"\"Load the captions into a dataframe\"\"\"\n",
    "    vn = []\n",
    "    cap = []\n",
    "    df = pd.DataFrame();\n",
    "    with open(fname) as f:\n",
    "        for line in f:\n",
    "            pairs = line.split()\n",
    "            vn.append(pairs[0])\n",
    "            cap.append(pairs[1])\n",
    "        df['video']=vn\n",
    "        df['caption']=cap\n",
    "    return df"
   ]
  },
  {
   "cell_type": "markdown",
   "metadata": {
    "colab_type": "text",
    "id": "0C571DyfASOZ"
   },
   "source": [
    "**The following function will load the C3D features.**"
   ]
  },
  {
   "cell_type": "code",
   "execution_count": 5,
   "metadata": {
    "colab": {},
    "colab_type": "code",
    "id": "Z0kOjTV0_2ZJ"
   },
   "outputs": [],
   "source": [
    "#Function to load C3D features \n",
    "\n",
    "def read_C3D(fname): \n",
    "    with open(fname) as f:\n",
    "        for line in f:\n",
    "            C3D =[float(item) for item in line.split()]\n",
    "    return C3D"
   ]
  },
  {
   "cell_type": "markdown",
   "metadata": {},
   "source": [
    "**The following function will load the Aesthetic features.**"
   ]
  },
  {
   "cell_type": "code",
   "execution_count": 6,
   "metadata": {},
   "outputs": [],
   "source": [
    "#Function to load Aesthetic features \n",
    "\n",
    "def read_Aesthetic(fname):\n",
    "    with open(fname) as f:\n",
    "        for line in f:\n",
    "            Aes =[item for item in line.split()]\n",
    "    return Aes"
   ]
  },
  {
   "cell_type": "markdown",
   "metadata": {
    "colab_type": "text",
    "id": "bA7u1C6vBhL-"
   },
   "source": [
    "## 3 Loading the features needed for the analysis.\n"
   ]
  },
  {
   "cell_type": "markdown",
   "metadata": {},
   "source": [
    "**Loading Features from the Dev-set**"
   ]
  },
  {
   "cell_type": "code",
   "execution_count": 7,
   "metadata": {
    "colab": {},
    "colab_type": "code",
    "id": "7iA76Z6fABo2"
   },
   "outputs": [],
   "source": [
    "#Loading the captions from the dev set\n",
    "caption_path = 'D:/DCU/2nd Semester/CA684 - Machine Learning/Assignment/Solution/Datasets/Dev-Set/Captions/dev-set_video-captions.txt'#'./Dev-set/Captions/dev-set_video-captions.txt'\n",
    "captions=read_caps(caption_path)\n",
    "\n",
    "#Loadting the ground truth values from the dev set\n",
    "ground_truth_path = 'D:/DCU/2nd Semester/CA684 - Machine Learning/Assignment/Solution/Datasets/Dev-Set/Ground-truth/ground-truth.csv'\n",
    "ground_truth=pd.read_csv(ground_truth_path)"
   ]
  },
  {
   "cell_type": "code",
   "execution_count": 8,
   "metadata": {
    "colab": {
     "base_uri": "https://localhost:8080/",
     "height": 106
    },
    "colab_type": "code",
    "executionInfo": {
     "elapsed": 1197,
     "status": "ok",
     "timestamp": 1585591939370,
     "user": {
      "displayName": "Bidish Basu",
      "photoUrl": "https://lh3.googleusercontent.com/a-/AOh14GjGzHxz_XveuB8vqHb7LYdoL9-1U9SivjvcbtRj=s64",
      "userId": "13410332490920392101"
     },
     "user_tz": -60
    },
    "id": "hE4fEXFnB7mq",
    "outputId": "e621bf68-017a-4ae7-a03c-f3aab9464aa1"
   },
   "outputs": [
    {
     "data": {
      "text/html": [
       "<div>\n",
       "<style scoped>\n",
       "    .dataframe tbody tr th:only-of-type {\n",
       "        vertical-align: middle;\n",
       "    }\n",
       "\n",
       "    .dataframe tbody tr th {\n",
       "        vertical-align: top;\n",
       "    }\n",
       "\n",
       "    .dataframe thead th {\n",
       "        text-align: right;\n",
       "    }\n",
       "</style>\n",
       "<table border=\"1\" class=\"dataframe\">\n",
       "  <thead>\n",
       "    <tr style=\"text-align: right;\">\n",
       "      <th></th>\n",
       "      <th>video</th>\n",
       "      <th>caption</th>\n",
       "    </tr>\n",
       "  </thead>\n",
       "  <tbody>\n",
       "    <tr>\n",
       "      <th>0</th>\n",
       "      <td>video3.webm</td>\n",
       "      <td>blonde-woman-is-massaged-tilt-down</td>\n",
       "    </tr>\n",
       "    <tr>\n",
       "      <th>1</th>\n",
       "      <td>video4.webm</td>\n",
       "      <td>roulette-table-spinning-with-ball-in-closeup-shot</td>\n",
       "    </tr>\n",
       "  </tbody>\n",
       "</table>\n",
       "</div>"
      ],
      "text/plain": [
       "         video                                            caption\n",
       "0  video3.webm                 blonde-woman-is-massaged-tilt-down\n",
       "1  video4.webm  roulette-table-spinning-with-ball-in-closeup-shot"
      ]
     },
     "execution_count": 8,
     "metadata": {},
     "output_type": "execute_result"
    }
   ],
   "source": [
    "#Printing out the loaded captions.\n",
    "captions.head(2)"
   ]
  },
  {
   "cell_type": "code",
   "execution_count": 9,
   "metadata": {
    "colab": {
     "base_uri": "https://localhost:8080/",
     "height": 123
    },
    "colab_type": "code",
    "executionInfo": {
     "elapsed": 730,
     "status": "ok",
     "timestamp": 1585591939371,
     "user": {
      "displayName": "Bidish Basu",
      "photoUrl": "https://lh3.googleusercontent.com/a-/AOh14GjGzHxz_XveuB8vqHb7LYdoL9-1U9SivjvcbtRj=s64",
      "userId": "13410332490920392101"
     },
     "user_tz": -60
    },
    "id": "AgoyxJboCGaM",
    "outputId": "b33f7951-0811-4582-a31a-d6e9fe8199d0"
   },
   "outputs": [
    {
     "data": {
      "text/html": [
       "<div>\n",
       "<style scoped>\n",
       "    .dataframe tbody tr th:only-of-type {\n",
       "        vertical-align: middle;\n",
       "    }\n",
       "\n",
       "    .dataframe tbody tr th {\n",
       "        vertical-align: top;\n",
       "    }\n",
       "\n",
       "    .dataframe thead th {\n",
       "        text-align: right;\n",
       "    }\n",
       "</style>\n",
       "<table border=\"1\" class=\"dataframe\">\n",
       "  <thead>\n",
       "    <tr style=\"text-align: right;\">\n",
       "      <th></th>\n",
       "      <th>video</th>\n",
       "      <th>short-term_memorability</th>\n",
       "      <th>nb_short-term_annotations</th>\n",
       "      <th>long-term_memorability</th>\n",
       "      <th>nb_long-term_annotations</th>\n",
       "    </tr>\n",
       "  </thead>\n",
       "  <tbody>\n",
       "    <tr>\n",
       "      <th>0</th>\n",
       "      <td>video3.webm</td>\n",
       "      <td>0.924</td>\n",
       "      <td>34</td>\n",
       "      <td>0.846</td>\n",
       "      <td>13</td>\n",
       "    </tr>\n",
       "    <tr>\n",
       "      <th>1</th>\n",
       "      <td>video4.webm</td>\n",
       "      <td>0.923</td>\n",
       "      <td>33</td>\n",
       "      <td>0.667</td>\n",
       "      <td>12</td>\n",
       "    </tr>\n",
       "  </tbody>\n",
       "</table>\n",
       "</div>"
      ],
      "text/plain": [
       "         video  short-term_memorability  nb_short-term_annotations  \\\n",
       "0  video3.webm                    0.924                         34   \n",
       "1  video4.webm                    0.923                         33   \n",
       "\n",
       "   long-term_memorability  nb_long-term_annotations  \n",
       "0                   0.846                        13  \n",
       "1                   0.667                        12  "
      ]
     },
     "execution_count": 9,
     "metadata": {},
     "output_type": "execute_result"
    }
   ],
   "source": [
    "#Printing out the loaded labels.\n",
    "ground_truth.head(2)"
   ]
  },
  {
   "cell_type": "code",
   "execution_count": 10,
   "metadata": {},
   "outputs": [],
   "source": [
    "##Loading the C3D Features\n",
    "dir_C3D = 'D:/DCU/2nd Semester/CA684 - Machine Learning/Assignment/Solution/Datasets/Dev-Set/C3D/' \n",
    "video = ground_truth.video.values\n",
    "\n",
    "c3d = pd.DataFrame({'video': video,\n",
    "                   'C3D': [read_C3D(dir_C3D+os.path.splitext(item)[0]+'.txt') for item in video],\n",
    "                       })"
   ]
  },
  {
   "cell_type": "code",
   "execution_count": 11,
   "metadata": {},
   "outputs": [
    {
     "data": {
      "text/html": [
       "<div>\n",
       "<style scoped>\n",
       "    .dataframe tbody tr th:only-of-type {\n",
       "        vertical-align: middle;\n",
       "    }\n",
       "\n",
       "    .dataframe tbody tr th {\n",
       "        vertical-align: top;\n",
       "    }\n",
       "\n",
       "    .dataframe thead th {\n",
       "        text-align: right;\n",
       "    }\n",
       "</style>\n",
       "<table border=\"1\" class=\"dataframe\">\n",
       "  <thead>\n",
       "    <tr style=\"text-align: right;\">\n",
       "      <th></th>\n",
       "      <th>video</th>\n",
       "      <th>C3D</th>\n",
       "    </tr>\n",
       "  </thead>\n",
       "  <tbody>\n",
       "    <tr>\n",
       "      <th>0</th>\n",
       "      <td>video3.webm</td>\n",
       "      <td>[0.02024942, 0.0015778, 0.00082625, 0.00094509...</td>\n",
       "    </tr>\n",
       "    <tr>\n",
       "      <th>1</th>\n",
       "      <td>video4.webm</td>\n",
       "      <td>[0.000118, 0.00089075, 0.00018769, 4.543e-05, ...</td>\n",
       "    </tr>\n",
       "  </tbody>\n",
       "</table>\n",
       "</div>"
      ],
      "text/plain": [
       "         video                                                C3D\n",
       "0  video3.webm  [0.02024942, 0.0015778, 0.00082625, 0.00094509...\n",
       "1  video4.webm  [0.000118, 0.00089075, 0.00018769, 4.543e-05, ..."
      ]
     },
     "execution_count": 11,
     "metadata": {},
     "output_type": "execute_result"
    }
   ],
   "source": [
    "#Printing out the C3D features.\n",
    "c3d.head(2)"
   ]
  },
  {
   "cell_type": "code",
   "execution_count": 12,
   "metadata": {},
   "outputs": [
    {
     "data": {
      "text/plain": [
       "(6000, 2)"
      ]
     },
     "execution_count": 12,
     "metadata": {},
     "output_type": "execute_result"
    }
   ],
   "source": [
    "c3d.shape\n"
   ]
  },
  {
   "cell_type": "code",
   "execution_count": 13,
   "metadata": {},
   "outputs": [],
   "source": [
    "#Loading the Aesthetic Median Features\n",
    "dir_aes_med = 'D:/DCU/2nd Semester/CA684 - Machine Learning/Assignment/Solution/Datasets/Dev-Set/dev-set_aesthetic-features/features/aesthetic_visual_features/aesthetic_feat_dev-set_median/' \n",
    "video = ground_truth.video.values  #pull in video labels first\n",
    "\n",
    "aes_med = pd.DataFrame({'video': video,\n",
    "                   'Aesthetic_Median': [read_Aesthetic(dir_aes_med+os.path.splitext(item)[0]+'.txt') for item in video],\n",
    "                       })"
   ]
  },
  {
   "cell_type": "code",
   "execution_count": 14,
   "metadata": {},
   "outputs": [
    {
     "data": {
      "text/html": [
       "<div>\n",
       "<style scoped>\n",
       "    .dataframe tbody tr th:only-of-type {\n",
       "        vertical-align: middle;\n",
       "    }\n",
       "\n",
       "    .dataframe tbody tr th {\n",
       "        vertical-align: top;\n",
       "    }\n",
       "\n",
       "    .dataframe thead th {\n",
       "        text-align: right;\n",
       "    }\n",
       "</style>\n",
       "<table border=\"1\" class=\"dataframe\">\n",
       "  <thead>\n",
       "    <tr style=\"text-align: right;\">\n",
       "      <th></th>\n",
       "      <th>video</th>\n",
       "      <th>Aesthetic_Median</th>\n",
       "    </tr>\n",
       "  </thead>\n",
       "  <tbody>\n",
       "    <tr>\n",
       "      <th>0</th>\n",
       "      <td>video3.webm</td>\n",
       "      <td>[0.180874,0.715626,0.198930,0.610453,0.121610,...</td>\n",
       "    </tr>\n",
       "    <tr>\n",
       "      <th>1</th>\n",
       "      <td>video4.webm</td>\n",
       "      <td>[0.146076,0.550070,0.460729,0.424397,0.341807,...</td>\n",
       "    </tr>\n",
       "    <tr>\n",
       "      <th>2</th>\n",
       "      <td>video6.webm</td>\n",
       "      <td>[0.063898,0.827439,0.211925,0.720297,0.129499,...</td>\n",
       "    </tr>\n",
       "    <tr>\n",
       "      <th>3</th>\n",
       "      <td>video8.webm</td>\n",
       "      <td>[0.380539,0.134683,0.746891,0.171604,0.697045,...</td>\n",
       "    </tr>\n",
       "    <tr>\n",
       "      <th>4</th>\n",
       "      <td>video10.webm</td>\n",
       "      <td>[0.427258,0.381448,0.582746,0.409475,0.489531,...</td>\n",
       "    </tr>\n",
       "  </tbody>\n",
       "</table>\n",
       "</div>"
      ],
      "text/plain": [
       "          video                                   Aesthetic_Median\n",
       "0   video3.webm  [0.180874,0.715626,0.198930,0.610453,0.121610,...\n",
       "1   video4.webm  [0.146076,0.550070,0.460729,0.424397,0.341807,...\n",
       "2   video6.webm  [0.063898,0.827439,0.211925,0.720297,0.129499,...\n",
       "3   video8.webm  [0.380539,0.134683,0.746891,0.171604,0.697045,...\n",
       "4  video10.webm  [0.427258,0.381448,0.582746,0.409475,0.489531,..."
      ]
     },
     "execution_count": 14,
     "metadata": {},
     "output_type": "execute_result"
    }
   ],
   "source": [
    "#Printing out the Aesthetic Median features.\n",
    "aes_med.head()"
   ]
  },
  {
   "cell_type": "code",
   "execution_count": 15,
   "metadata": {},
   "outputs": [
    {
     "data": {
      "text/plain": [
       "(6000, 2)"
      ]
     },
     "execution_count": 15,
     "metadata": {},
     "output_type": "execute_result"
    }
   ],
   "source": [
    "aes_med.shape"
   ]
  },
  {
   "cell_type": "code",
   "execution_count": 16,
   "metadata": {},
   "outputs": [],
   "source": [
    "##Loading the Aesthetic Mean\n",
    "dir_aes_mean = 'D:/DCU/2nd Semester/CA684 - Machine Learning/Assignment/Solution/Datasets/Dev-Set/dev-set_aesthetic-features/features/aesthetic_visual_features/aesthetic_feat_dev-set_mean/' \n",
    "video = ground_truth.video.values\n",
    "\n",
    "aes_mean = pd.DataFrame({'video': video,\n",
    "                   'Aesthetic_Mean': [read_Aesthetic(dir_aes_mean+os.path.splitext(item)[0]+'.txt') for item in video],\n",
    "                       })"
   ]
  },
  {
   "cell_type": "code",
   "execution_count": 17,
   "metadata": {},
   "outputs": [
    {
     "data": {
      "text/html": [
       "<div>\n",
       "<style scoped>\n",
       "    .dataframe tbody tr th:only-of-type {\n",
       "        vertical-align: middle;\n",
       "    }\n",
       "\n",
       "    .dataframe tbody tr th {\n",
       "        vertical-align: top;\n",
       "    }\n",
       "\n",
       "    .dataframe thead th {\n",
       "        text-align: right;\n",
       "    }\n",
       "</style>\n",
       "<table border=\"1\" class=\"dataframe\">\n",
       "  <thead>\n",
       "    <tr style=\"text-align: right;\">\n",
       "      <th></th>\n",
       "      <th>video</th>\n",
       "      <th>Aesthetic_Mean</th>\n",
       "    </tr>\n",
       "  </thead>\n",
       "  <tbody>\n",
       "    <tr>\n",
       "      <th>0</th>\n",
       "      <td>video3.webm</td>\n",
       "      <td>[0.183890,0.713733,0.202302,0.610132,0.124278,...</td>\n",
       "    </tr>\n",
       "    <tr>\n",
       "      <th>1</th>\n",
       "      <td>video4.webm</td>\n",
       "      <td>[0.147255,0.550718,0.460299,0.424981,0.341784,...</td>\n",
       "    </tr>\n",
       "  </tbody>\n",
       "</table>\n",
       "</div>"
      ],
      "text/plain": [
       "         video                                     Aesthetic_Mean\n",
       "0  video3.webm  [0.183890,0.713733,0.202302,0.610132,0.124278,...\n",
       "1  video4.webm  [0.147255,0.550718,0.460299,0.424981,0.341784,..."
      ]
     },
     "execution_count": 17,
     "metadata": {},
     "output_type": "execute_result"
    }
   ],
   "source": [
    "#Printing out the Aesthetic Median features.\n",
    "aes_mean.head(2)"
   ]
  },
  {
   "cell_type": "code",
   "execution_count": 18,
   "metadata": {},
   "outputs": [
    {
     "data": {
      "text/plain": [
       "(6000, 2)"
      ]
     },
     "execution_count": 18,
     "metadata": {},
     "output_type": "execute_result"
    }
   ],
   "source": [
    "aes_mean.shape"
   ]
  },
  {
   "cell_type": "markdown",
   "metadata": {},
   "source": [
    "# 4.Exploring different models and features"
   ]
  },
  {
   "cell_type": "markdown",
   "metadata": {
    "colab": {
     "base_uri": "https://localhost:8080/",
     "height": 106
    },
    "colab_type": "code",
    "executionInfo": {
     "elapsed": 552,
     "status": "ok",
     "timestamp": 1585591942645,
     "user": {
      "displayName": "Bidish Basu",
      "photoUrl": "https://lh3.googleusercontent.com/a-/AOh14GjGzHxz_XveuB8vqHb7LYdoL9-1U9SivjvcbtRj=s64",
      "userId": "13410332490920392101"
     },
     "user_tz": -60
    },
    "id": "y0NZtfBXDUFe",
    "outputId": "7b966664-8869-4cce-b855-11c0ccd60c64"
   },
   "source": [
    "### 4.1 CAPTIONS"
   ]
  },
  {
   "cell_type": "markdown",
   "metadata": {
    "colab_type": "text",
    "id": "UXzPSuwOOjpX"
   },
   "source": [
    "**Preprocessing the data present in the captions**"
   ]
  },
  {
   "cell_type": "code",
   "execution_count": 19,
   "metadata": {
    "colab": {
     "base_uri": "https://localhost:8080/",
     "height": 67
    },
    "colab_type": "code",
    "executionInfo": {
     "elapsed": 455,
     "status": "ok",
     "timestamp": 1585595676017,
     "user": {
      "displayName": "Bidish Basu",
      "photoUrl": "https://lh3.googleusercontent.com/a-/AOh14GjGzHxz_XveuB8vqHb7LYdoL9-1U9SivjvcbtRj=s64",
      "userId": "13410332490920392101"
     },
     "user_tz": -60
    },
    "id": "E8Iu_XpxZt00",
    "outputId": "40ef8514-63a0-4cbc-fb22-f0506276096d"
   },
   "outputs": [
    {
     "name": "stderr",
     "output_type": "stream",
     "text": [
      "[nltk_data] Downloading package punkt to\n",
      "[nltk_data]     C:\\Users\\bidis\\AppData\\Roaming\\nltk_data...\n",
      "[nltk_data]   Package punkt is already up-to-date!\n",
      "[nltk_data] Downloading package stopwords to\n",
      "[nltk_data]     C:\\Users\\bidis\\AppData\\Roaming\\nltk_data...\n",
      "[nltk_data]   Package stopwords is already up-to-date!\n"
     ]
    },
    {
     "data": {
      "text/plain": [
       "True"
      ]
     },
     "execution_count": 19,
     "metadata": {},
     "output_type": "execute_result"
    }
   ],
   "source": [
    "import nltk\n",
    "nltk.download('punkt')\n",
    "nltk.download('stopwords')"
   ]
  },
  {
   "cell_type": "code",
   "execution_count": 20,
   "metadata": {},
   "outputs": [
    {
     "data": {
      "text/html": [
       "<div>\n",
       "<style scoped>\n",
       "    .dataframe tbody tr th:only-of-type {\n",
       "        vertical-align: middle;\n",
       "    }\n",
       "\n",
       "    .dataframe tbody tr th {\n",
       "        vertical-align: top;\n",
       "    }\n",
       "\n",
       "    .dataframe thead th {\n",
       "        text-align: right;\n",
       "    }\n",
       "</style>\n",
       "<table border=\"1\" class=\"dataframe\">\n",
       "  <thead>\n",
       "    <tr style=\"text-align: right;\">\n",
       "      <th></th>\n",
       "      <th>video</th>\n",
       "      <th>caption</th>\n",
       "    </tr>\n",
       "  </thead>\n",
       "  <tbody>\n",
       "    <tr>\n",
       "      <th>0</th>\n",
       "      <td>video3.webm</td>\n",
       "      <td>blonde-woman-is-massaged-tilt-down</td>\n",
       "    </tr>\n",
       "  </tbody>\n",
       "</table>\n",
       "</div>"
      ],
      "text/plain": [
       "         video                             caption\n",
       "0  video3.webm  blonde-woman-is-massaged-tilt-down"
      ]
     },
     "execution_count": 20,
     "metadata": {},
     "output_type": "execute_result"
    }
   ],
   "source": [
    "captions.head(1)"
   ]
  },
  {
   "cell_type": "code",
   "execution_count": 21,
   "metadata": {
    "colab": {
     "base_uri": "https://localhost:8080/",
     "height": 67
    },
    "colab_type": "code",
    "executionInfo": {
     "elapsed": 4970,
     "status": "ok",
     "timestamp": 1585595683243,
     "user": {
      "displayName": "Bidish Basu",
      "photoUrl": "https://lh3.googleusercontent.com/a-/AOh14GjGzHxz_XveuB8vqHb7LYdoL9-1U9SivjvcbtRj=s64",
      "userId": "13410332490920392101"
     },
     "user_tz": -60
    },
    "id": "Poz5OtKtZty5",
    "outputId": "1eafccca-e465-44ab-bd03-fd3ff044aa27"
   },
   "outputs": [
    {
     "name": "stderr",
     "output_type": "stream",
     "text": [
      "Counting word occurrences\n",
      "0% [##############################] 100% | ETA: 00:00:00\n",
      "Total time elapsed: 00:00:03\n"
     ]
    }
   ],
   "source": [
    "# Replace punctuations with space and convert words to lower case in captions\n",
    "counts = Counter()\n",
    "# setup prograss tracker\n",
    "pbar = pyprind.ProgBar(len(captions['caption']), title='Counting word occurrences')\n",
    "for i, cap in enumerate(captions['caption']):\n",
    "    \n",
    "    text = ''.join([c if c not in punctuation else ' ' for c in cap]).lower()\n",
    "    captions.loc[i,'caption'] = text\n",
    "    pbar.update()\n",
    "    counts.update(text.split())"
   ]
  },
  {
   "cell_type": "code",
   "execution_count": 22,
   "metadata": {
    "colab": {
     "base_uri": "https://localhost:8080/",
     "height": 652
    },
    "colab_type": "code",
    "executionInfo": {
     "elapsed": 485,
     "status": "ok",
     "timestamp": 1585595688616,
     "user": {
      "displayName": "Bidish Basu",
      "photoUrl": "https://lh3.googleusercontent.com/a-/AOh14GjGzHxz_XveuB8vqHb7LYdoL9-1U9SivjvcbtRj=s64",
      "userId": "13410332490920392101"
     },
     "user_tz": -60
    },
    "id": "3mp46mO-3gnl",
    "outputId": "00f3da92-16d3-4e15-ecb2-2de67f9ade00"
   },
   "outputs": [
    {
     "data": {
      "text/html": [
       "<div>\n",
       "<style scoped>\n",
       "    .dataframe tbody tr th:only-of-type {\n",
       "        vertical-align: middle;\n",
       "    }\n",
       "\n",
       "    .dataframe tbody tr th {\n",
       "        vertical-align: top;\n",
       "    }\n",
       "\n",
       "    .dataframe thead th {\n",
       "        text-align: right;\n",
       "    }\n",
       "</style>\n",
       "<table border=\"1\" class=\"dataframe\">\n",
       "  <thead>\n",
       "    <tr style=\"text-align: right;\">\n",
       "      <th></th>\n",
       "      <th>video</th>\n",
       "      <th>caption</th>\n",
       "    </tr>\n",
       "  </thead>\n",
       "  <tbody>\n",
       "    <tr>\n",
       "      <th>0</th>\n",
       "      <td>video3.webm</td>\n",
       "      <td>blonde woman is massaged tilt down</td>\n",
       "    </tr>\n",
       "    <tr>\n",
       "      <th>1</th>\n",
       "      <td>video4.webm</td>\n",
       "      <td>roulette table spinning with ball in closeup shot</td>\n",
       "    </tr>\n",
       "    <tr>\n",
       "      <th>2</th>\n",
       "      <td>video6.webm</td>\n",
       "      <td>khr gangsters</td>\n",
       "    </tr>\n",
       "    <tr>\n",
       "      <th>3</th>\n",
       "      <td>video8.webm</td>\n",
       "      <td>medical helicopter hovers at airport</td>\n",
       "    </tr>\n",
       "    <tr>\n",
       "      <th>4</th>\n",
       "      <td>video10.webm</td>\n",
       "      <td>couple relaxing on picnic crane shot</td>\n",
       "    </tr>\n",
       "  </tbody>\n",
       "</table>\n",
       "</div>"
      ],
      "text/plain": [
       "          video                                            caption\n",
       "0   video3.webm                 blonde woman is massaged tilt down\n",
       "1   video4.webm  roulette table spinning with ball in closeup shot\n",
       "2   video6.webm                                      khr gangsters\n",
       "3   video8.webm               medical helicopter hovers at airport\n",
       "4  video10.webm               couple relaxing on picnic crane shot"
      ]
     },
     "execution_count": 22,
     "metadata": {},
     "output_type": "execute_result"
    }
   ],
   "source": [
    "captions.head()"
   ]
  },
  {
   "cell_type": "code",
   "execution_count": 23,
   "metadata": {
    "colab": {},
    "colab_type": "code",
    "id": "i8Q53sdPZtsW"
   },
   "outputs": [
    {
     "data": {
      "text/html": [
       "<div>\n",
       "<style scoped>\n",
       "    .dataframe tbody tr th:only-of-type {\n",
       "        vertical-align: middle;\n",
       "    }\n",
       "\n",
       "    .dataframe tbody tr th {\n",
       "        vertical-align: top;\n",
       "    }\n",
       "\n",
       "    .dataframe thead th {\n",
       "        text-align: right;\n",
       "    }\n",
       "</style>\n",
       "<table border=\"1\" class=\"dataframe\">\n",
       "  <thead>\n",
       "    <tr style=\"text-align: right;\">\n",
       "      <th></th>\n",
       "      <th>video</th>\n",
       "      <th>caption</th>\n",
       "    </tr>\n",
       "  </thead>\n",
       "  <tbody>\n",
       "    <tr>\n",
       "      <th>0</th>\n",
       "      <td>video3.webm</td>\n",
       "      <td>[blonde, woman, is, massaged, tilt, down]</td>\n",
       "    </tr>\n",
       "    <tr>\n",
       "      <th>1</th>\n",
       "      <td>video4.webm</td>\n",
       "      <td>[roulette, table, spinning, with, ball, in, cl...</td>\n",
       "    </tr>\n",
       "  </tbody>\n",
       "</table>\n",
       "</div>"
      ],
      "text/plain": [
       "         video                                            caption\n",
       "0  video3.webm          [blonde, woman, is, massaged, tilt, down]\n",
       "1  video4.webm  [roulette, table, spinning, with, ball, in, cl..."
      ]
     },
     "execution_count": 23,
     "metadata": {},
     "output_type": "execute_result"
    }
   ],
   "source": [
    "#Tokenization\n",
    "\n",
    "def identify_tokens(row):\n",
    "    review = row['caption']\n",
    "    tokens = nltk.word_tokenize(review)\n",
    "    token_words = [w for w in tokens if w.isalpha()]\n",
    "    return token_words\n",
    "\n",
    "captions['caption'] = captions.apply(identify_tokens, axis=1)\n",
    "captions.head(2)"
   ]
  },
  {
   "cell_type": "code",
   "execution_count": 24,
   "metadata": {
    "colab": {},
    "colab_type": "code",
    "id": "i06JEcU2SUj7"
   },
   "outputs": [
    {
     "data": {
      "text/html": [
       "<div>\n",
       "<style scoped>\n",
       "    .dataframe tbody tr th:only-of-type {\n",
       "        vertical-align: middle;\n",
       "    }\n",
       "\n",
       "    .dataframe tbody tr th {\n",
       "        vertical-align: top;\n",
       "    }\n",
       "\n",
       "    .dataframe thead th {\n",
       "        text-align: right;\n",
       "    }\n",
       "</style>\n",
       "<table border=\"1\" class=\"dataframe\">\n",
       "  <thead>\n",
       "    <tr style=\"text-align: right;\">\n",
       "      <th></th>\n",
       "      <th>video</th>\n",
       "      <th>caption</th>\n",
       "    </tr>\n",
       "  </thead>\n",
       "  <tbody>\n",
       "    <tr>\n",
       "      <th>0</th>\n",
       "      <td>video3.webm</td>\n",
       "      <td>[blond, woman, is, massag, tilt, down]</td>\n",
       "    </tr>\n",
       "    <tr>\n",
       "      <th>1</th>\n",
       "      <td>video4.webm</td>\n",
       "      <td>[roulett, tabl, spin, with, ball, in, closeup,...</td>\n",
       "    </tr>\n",
       "  </tbody>\n",
       "</table>\n",
       "</div>"
      ],
      "text/plain": [
       "         video                                            caption\n",
       "0  video3.webm             [blond, woman, is, massag, tilt, down]\n",
       "1  video4.webm  [roulett, tabl, spin, with, ball, in, closeup,..."
      ]
     },
     "execution_count": 24,
     "metadata": {},
     "output_type": "execute_result"
    }
   ],
   "source": [
    "#Stemming\n",
    "from nltk.stem import PorterStemmer\n",
    "stemming = PorterStemmer()\n",
    "\n",
    "def stem_list(row):\n",
    "    my_list = row['caption']\n",
    "    stemmed_list = [stemming.stem(word) for word in my_list]\n",
    "    return (stemmed_list)\n",
    "\n",
    "captions['caption'] = captions.apply(stem_list, axis=1)\n",
    "captions.head(2)"
   ]
  },
  {
   "cell_type": "code",
   "execution_count": 25,
   "metadata": {
    "colab": {},
    "colab_type": "code",
    "id": "G6fmxTD-hIX9"
   },
   "outputs": [
    {
     "data": {
      "text/html": [
       "<div>\n",
       "<style scoped>\n",
       "    .dataframe tbody tr th:only-of-type {\n",
       "        vertical-align: middle;\n",
       "    }\n",
       "\n",
       "    .dataframe tbody tr th {\n",
       "        vertical-align: top;\n",
       "    }\n",
       "\n",
       "    .dataframe thead th {\n",
       "        text-align: right;\n",
       "    }\n",
       "</style>\n",
       "<table border=\"1\" class=\"dataframe\">\n",
       "  <thead>\n",
       "    <tr style=\"text-align: right;\">\n",
       "      <th></th>\n",
       "      <th>video</th>\n",
       "      <th>caption</th>\n",
       "    </tr>\n",
       "  </thead>\n",
       "  <tbody>\n",
       "    <tr>\n",
       "      <th>0</th>\n",
       "      <td>video3.webm</td>\n",
       "      <td>[blond, woman, massag, tilt]</td>\n",
       "    </tr>\n",
       "    <tr>\n",
       "      <th>1</th>\n",
       "      <td>video4.webm</td>\n",
       "      <td>[roulett, tabl, spin, ball, closeup, shot]</td>\n",
       "    </tr>\n",
       "  </tbody>\n",
       "</table>\n",
       "</div>"
      ],
      "text/plain": [
       "         video                                     caption\n",
       "0  video3.webm                [blond, woman, massag, tilt]\n",
       "1  video4.webm  [roulett, tabl, spin, ball, closeup, shot]"
      ]
     },
     "execution_count": 25,
     "metadata": {},
     "output_type": "execute_result"
    }
   ],
   "source": [
    "#Removing the stopwords\n",
    "from nltk.corpus import stopwords\n",
    "stops = set(stopwords.words(\"english\"))                  \n",
    "\n",
    "def remove_stops(row):\n",
    "    my_list = row['caption']\n",
    "    meaningful_words = [w for w in my_list if not w in stops]\n",
    "    return (meaningful_words)\n",
    "\n",
    "captions['caption'] = captions.apply(remove_stops, axis=1)\n",
    "captions.head(2)"
   ]
  },
  {
   "cell_type": "code",
   "execution_count": 26,
   "metadata": {
    "colab": {},
    "colab_type": "code",
    "id": "eghcsITykIIP"
   },
   "outputs": [
    {
     "data": {
      "text/html": [
       "<div>\n",
       "<style scoped>\n",
       "    .dataframe tbody tr th:only-of-type {\n",
       "        vertical-align: middle;\n",
       "    }\n",
       "\n",
       "    .dataframe tbody tr th {\n",
       "        vertical-align: top;\n",
       "    }\n",
       "\n",
       "    .dataframe thead th {\n",
       "        text-align: right;\n",
       "    }\n",
       "</style>\n",
       "<table border=\"1\" class=\"dataframe\">\n",
       "  <thead>\n",
       "    <tr style=\"text-align: right;\">\n",
       "      <th></th>\n",
       "      <th>video</th>\n",
       "      <th>caption</th>\n",
       "    </tr>\n",
       "  </thead>\n",
       "  <tbody>\n",
       "    <tr>\n",
       "      <th>0</th>\n",
       "      <td>video3.webm</td>\n",
       "      <td>blond woman massag tilt</td>\n",
       "    </tr>\n",
       "    <tr>\n",
       "      <th>1</th>\n",
       "      <td>video4.webm</td>\n",
       "      <td>roulett tabl spin ball closeup shot</td>\n",
       "    </tr>\n",
       "  </tbody>\n",
       "</table>\n",
       "</div>"
      ],
      "text/plain": [
       "         video                              caption\n",
       "0  video3.webm              blond woman massag tilt\n",
       "1  video4.webm  roulett tabl spin ball closeup shot"
      ]
     },
     "execution_count": 26,
     "metadata": {},
     "output_type": "execute_result"
    }
   ],
   "source": [
    "#Rejoining the words\n",
    "def rejoin_words(row):\n",
    "    my_list = row['caption']\n",
    "    joined_words = ( \" \".join(my_list))\n",
    "    return joined_words\n",
    "\n",
    "captions['caption'] = captions.apply(rejoin_words, axis=1)\n",
    "captions.head(2)"
   ]
  },
  {
   "cell_type": "markdown",
   "metadata": {
    "colab_type": "text",
    "id": "842K7NYXmp4h"
   },
   "source": [
    " **Hashing Vectorizer**"
   ]
  },
  {
   "cell_type": "code",
   "execution_count": 27,
   "metadata": {
    "colab": {},
    "colab_type": "code",
    "id": "LKjd1KxHSYuy"
   },
   "outputs": [],
   "source": [
    "vectorizer = HashingVectorizer(n_features=3112)\n",
    "caption = vectorizer.fit_transform(captions['caption']).toarray()"
   ]
  },
  {
   "cell_type": "code",
   "execution_count": 28,
   "metadata": {
    "colab": {},
    "colab_type": "code",
    "id": "Ai5Lz1JxSYs-"
   },
   "outputs": [
    {
     "data": {
      "text/plain": [
       "(6000, 3112)"
      ]
     },
     "execution_count": 28,
     "metadata": {},
     "output_type": "execute_result"
    }
   ],
   "source": [
    "caption.shape"
   ]
  },
  {
   "cell_type": "markdown",
   "metadata": {},
   "source": [
    "**4.1.1 Multilayer Perceptron**"
   ]
  },
  {
   "cell_type": "code",
   "execution_count": 29,
   "metadata": {},
   "outputs": [
    {
     "name": "stdout",
     "output_type": "stream",
     "text": [
      "X_train  (4800, 3112)\n",
      "X_test   (1200, 3112)\n",
      "Y_train  (4800, 2)\n",
      "Y_test   (1200, 2)\n",
      "WARNING:tensorflow:From C:\\Users\\bidis\\Anaconda3\\lib\\site-packages\\keras\\backend\\tensorflow_backend.py:422: The name tf.global_variables is deprecated. Please use tf.compat.v1.global_variables instead.\n",
      "\n",
      "Train on 4800 samples, validate on 1200 samples\n",
      "Epoch 1/10\n",
      "4800/4800 [==============================] - 2s 508us/step - loss: 0.3171 - accuracy: 0.6977 - val_loss: 0.2557 - val_accuracy: 0.7100\n",
      "Epoch 2/10\n",
      "4800/4800 [==============================] - 2s 382us/step - loss: 0.2179 - accuracy: 0.7033 - val_loss: 0.1825 - val_accuracy: 0.7100\n",
      "Epoch 3/10\n",
      "4800/4800 [==============================] - 2s 354us/step - loss: 0.1560 - accuracy: 0.7035 - val_loss: 0.1315 - val_accuracy: 0.7100\n",
      "Epoch 4/10\n",
      "4800/4800 [==============================] - 2s 362us/step - loss: 0.1131 - accuracy: 0.7035 - val_loss: 0.0960 - val_accuracy: 0.7100\n",
      "Epoch 5/10\n",
      "4800/4800 [==============================] - 2s 353us/step - loss: 0.0831 - accuracy: 0.7035 - val_loss: 0.0712 - val_accuracy: 0.7100\n",
      "Epoch 6/10\n",
      "4800/4800 [==============================] - 2s 370us/step - loss: 0.0621 - accuracy: 0.7035 - val_loss: 0.0540 - val_accuracy: 0.7100\n",
      "Epoch 7/10\n",
      "4800/4800 [==============================] - 2s 348us/step - loss: 0.0476 - accuracy: 0.7035 - val_loss: 0.0419 - val_accuracy: 0.7100\n",
      "Epoch 8/10\n",
      "4800/4800 [==============================] - 2s 466us/step - loss: 0.0375 - accuracy: 0.7035 - val_loss: 0.0335 - val_accuracy: 0.7100\n",
      "Epoch 9/10\n",
      "4800/4800 [==============================] - 3s 632us/step - loss: 0.0304 - accuracy: 0.7035 - val_loss: 0.0276 - val_accuracy: 0.7100\n",
      "Epoch 10/10\n",
      "4800/4800 [==============================] - 2s 464us/step - loss: 0.0255 - accuracy: 0.7035 - val_loss: 0.0235 - val_accuracy: 0.7100\n"
     ]
    },
    {
     "data": {
      "image/png": "[encoded data removed]",
      "text/plain": [
       "<Figure size 432x288 with 1 Axes>"
      ]
     },
     "metadata": {
      "needs_background": "light"
     },
     "output_type": "display_data"
    },
    {
     "data": {
      "image/png": "[encoded data removed]",
      "text/plain": [
       "<Figure size 432x288 with 1 Axes>"
      ]
     },
     "metadata": {
      "needs_background": "light"
     },
     "output_type": "display_data"
    },
    {
     "name": "stdout",
     "output_type": "stream",
     "text": [
      "The Spearman's correlation coefficient is: 0.399\n",
      "The Spearman's correlation coefficient is: 0.179\n"
     ]
    }
   ],
   "source": [
    "X = caption\n",
    "Y = ground_truth[['short-term_memorability','long-term_memorability']].values\n",
    "\n",
    "X_train,X_test,Y_train,Y_test = train_test_split(X,Y,test_size=0.2,random_state=42)\n",
    "\n",
    "print('X_train ', X_train.shape)\n",
    "print('X_test  ', X_test.shape)\n",
    "print('Y_train ', Y_train.shape)\n",
    "print('Y_test  ', Y_test.shape)\n",
    "\n",
    "model = Sequential() \n",
    "model.add(layers.Dense(200,activation='relu',kernel_regularizer=regularizers.l2(0.0006),input_shape=(X.shape[1],))) \n",
    "model.add(layers.Dropout(0.5)) \n",
    "model.add(layers.Dense(200,activation='relu',kernel_regularizer=regularizers.l2(0.0006)))\n",
    "model.add(layers.Dropout(0.5))\n",
    "\n",
    "model.add(layers.Dense(2,activation='sigmoid'))\n",
    "\n",
    "# Compiling the model \n",
    "model.compile(optimizer='Adadelta',loss='mse',metrics=['accuracy'])\n",
    "\n",
    "# Defining the early stopping_monitor\n",
    "early_stopping_monitor = EarlyStopping(patience=2)\n",
    "\n",
    "# Training the model \n",
    "history = model.fit(X_train,Y_train,epochs=10,validation_data=(X_test, Y_test), callbacks= [early_stopping_monitor])\n",
    "\n",
    "# Visualizing the model\n",
    "loss = history.history['loss']\n",
    "val_loss = history.history['val_loss']\n",
    "\n",
    "epochs = range(1,len(loss)+1)\n",
    "\n",
    "plt.plot(epochs,loss,'bo',label='Training loss')\n",
    "plt.plot(epochs,val_loss,'b',label='Validation loss')\n",
    "plt.title('Training and validation loss')\n",
    "plt.xlabel('Epochs')\n",
    "plt.ylabel('Loss')\n",
    "plt.legend()\n",
    "plt.show()\n",
    "\n",
    "plt.figure()\n",
    "acc = history.history['accuracy']\n",
    "val_acc = history.history['val_accuracy']\n",
    "plt.plot(epochs, acc, 'bo', label='Training acc')\n",
    "plt.plot(epochs, val_acc, 'b', label='Validation acc')\n",
    "plt.title('Training and validation accuracy')\n",
    "plt.xlabel('Epochs')\n",
    "plt.ylabel('Accuracy')\n",
    "plt.legend()\n",
    "plt.show()\n",
    "\n",
    "Y_prediction_val_MLP = model.predict(X_test)\n",
    "Get_score(Y_prediction_val_MLP,Y_test)"
   ]
  },
  {
   "cell_type": "markdown",
   "metadata": {},
   "source": [
    "**4.1.2 Bagging Regressor**"
   ]
  },
  {
   "cell_type": "code",
   "execution_count": 30,
   "metadata": {},
   "outputs": [
    {
     "name": "stdout",
     "output_type": "stream",
     "text": [
      "X_train  (4800, 3112)\n",
      "X_test   (1200, 3112)\n",
      "Y_train  (4800, 2)\n",
      "Y_test   (1200, 2)\n",
      "The Spearman's correlation coefficient is: 0.426\n",
      "The Spearman's correlation coefficient is: 0.163\n"
     ]
    }
   ],
   "source": [
    "X = caption\n",
    "Y = ground_truth[['short-term_memorability','long-term_memorability']].values\n",
    "\n",
    "X_train,X_test,Y_train,Y_test = train_test_split(X,Y,test_size=0.2,random_state=42)\n",
    "\n",
    "print('X_train ', X_train.shape)\n",
    "print('X_test  ', X_test.shape)\n",
    "print('Y_train ', Y_train.shape)\n",
    "print('Y_test  ', Y_test.shape)\n",
    "\n",
    "\n",
    "caption_br = BaggingRegressor(base_estimator = DecisionTreeRegressor(splitter = 'random'),n_estimators=100)\n",
    "caption_br.fit(X_train,Y_train)\n",
    "\n",
    "caption_br_prediction = caption_br.predict(X_test)\n",
    "caption_br_prediction\n",
    "\n",
    "Get_score(caption_br_prediction, Y_test)"
   ]
  },
  {
   "cell_type": "markdown",
   "metadata": {},
   "source": [
    "**4.1.3 Linear Regression**"
   ]
  },
  {
   "cell_type": "code",
   "execution_count": 31,
   "metadata": {},
   "outputs": [
    {
     "name": "stdout",
     "output_type": "stream",
     "text": [
      "X_train  (4800, 3112)\n",
      "X_test   (1200, 3112)\n",
      "Y_train  (4800, 2)\n",
      "Y_test   (1200, 2)\n",
      "The Spearman's correlation coefficient is: 0.238\n",
      "The Spearman's correlation coefficient is: 0.119\n"
     ]
    }
   ],
   "source": [
    "X = caption\n",
    "Y = ground_truth[['short-term_memorability','long-term_memorability']].values\n",
    "\n",
    "X_train,X_test,Y_train,Y_test = train_test_split(X,Y,test_size=0.2,random_state=42)\n",
    "\n",
    "print('X_train ', X_train.shape)\n",
    "print('X_test  ', X_test.shape)\n",
    "print('Y_train ', Y_train.shape)\n",
    "print('Y_test  ', Y_test.shape)\n",
    "\n",
    "caption_lr = LinearRegression()\n",
    "caption_lr.fit(X_train,Y_train)\n",
    "\n",
    "caption_lr_prediction = caption_lr.predict(X_test)\n",
    "caption_lr_prediction\n",
    "\n",
    "Get_score(caption_lr_prediction, Y_test)"
   ]
  },
  {
   "cell_type": "markdown",
   "metadata": {},
   "source": [
    "# 4.2 C3D"
   ]
  },
  {
   "cell_type": "code",
   "execution_count": 32,
   "metadata": {},
   "outputs": [
    {
     "data": {
      "text/html": [
       "<div>\n",
       "<style scoped>\n",
       "    .dataframe tbody tr th:only-of-type {\n",
       "        vertical-align: middle;\n",
       "    }\n",
       "\n",
       "    .dataframe tbody tr th {\n",
       "        vertical-align: top;\n",
       "    }\n",
       "\n",
       "    .dataframe thead th {\n",
       "        text-align: right;\n",
       "    }\n",
       "</style>\n",
       "<table border=\"1\" class=\"dataframe\">\n",
       "  <thead>\n",
       "    <tr style=\"text-align: right;\">\n",
       "      <th></th>\n",
       "      <th>video</th>\n",
       "      <th>C3D</th>\n",
       "    </tr>\n",
       "  </thead>\n",
       "  <tbody>\n",
       "    <tr>\n",
       "      <th>0</th>\n",
       "      <td>video3.webm</td>\n",
       "      <td>[0.02024942, 0.0015778, 0.00082625, 0.00094509...</td>\n",
       "    </tr>\n",
       "    <tr>\n",
       "      <th>1</th>\n",
       "      <td>video4.webm</td>\n",
       "      <td>[0.000118, 0.00089075, 0.00018769, 4.543e-05, ...</td>\n",
       "    </tr>\n",
       "  </tbody>\n",
       "</table>\n",
       "</div>"
      ],
      "text/plain": [
       "         video                                                C3D\n",
       "0  video3.webm  [0.02024942, 0.0015778, 0.00082625, 0.00094509...\n",
       "1  video4.webm  [0.000118, 0.00089075, 0.00018769, 4.543e-05, ..."
      ]
     },
     "execution_count": 32,
     "metadata": {},
     "output_type": "execute_result"
    }
   ],
   "source": [
    "c3d.head(2)"
   ]
  },
  {
   "cell_type": "code",
   "execution_count": 33,
   "metadata": {},
   "outputs": [
    {
     "data": {
      "text/html": [
       "<div>\n",
       "<style scoped>\n",
       "    .dataframe tbody tr th:only-of-type {\n",
       "        vertical-align: middle;\n",
       "    }\n",
       "\n",
       "    .dataframe tbody tr th {\n",
       "        vertical-align: top;\n",
       "    }\n",
       "\n",
       "    .dataframe thead th {\n",
       "        text-align: right;\n",
       "    }\n",
       "</style>\n",
       "<table border=\"1\" class=\"dataframe\">\n",
       "  <thead>\n",
       "    <tr style=\"text-align: right;\">\n",
       "      <th></th>\n",
       "      <th>0</th>\n",
       "      <th>1</th>\n",
       "      <th>2</th>\n",
       "      <th>3</th>\n",
       "      <th>4</th>\n",
       "      <th>5</th>\n",
       "      <th>6</th>\n",
       "      <th>7</th>\n",
       "      <th>8</th>\n",
       "      <th>9</th>\n",
       "      <th>...</th>\n",
       "      <th>91</th>\n",
       "      <th>92</th>\n",
       "      <th>93</th>\n",
       "      <th>94</th>\n",
       "      <th>95</th>\n",
       "      <th>96</th>\n",
       "      <th>97</th>\n",
       "      <th>98</th>\n",
       "      <th>99</th>\n",
       "      <th>100</th>\n",
       "    </tr>\n",
       "  </thead>\n",
       "  <tbody>\n",
       "    <tr>\n",
       "      <th>0</th>\n",
       "      <td>0.020249</td>\n",
       "      <td>0.001578</td>\n",
       "      <td>0.000826</td>\n",
       "      <td>0.000945</td>\n",
       "      <td>0.000063</td>\n",
       "      <td>0.000003</td>\n",
       "      <td>0.001162</td>\n",
       "      <td>0.000097</td>\n",
       "      <td>0.000022</td>\n",
       "      <td>0.000010</td>\n",
       "      <td>...</td>\n",
       "      <td>0.001042</td>\n",
       "      <td>0.000161</td>\n",
       "      <td>0.000257</td>\n",
       "      <td>0.046617</td>\n",
       "      <td>0.000156</td>\n",
       "      <td>0.000006</td>\n",
       "      <td>0.000537</td>\n",
       "      <td>0.000339</td>\n",
       "      <td>0.008437</td>\n",
       "      <td>0.000470</td>\n",
       "    </tr>\n",
       "    <tr>\n",
       "      <th>1</th>\n",
       "      <td>0.000118</td>\n",
       "      <td>0.000891</td>\n",
       "      <td>0.000188</td>\n",
       "      <td>0.000045</td>\n",
       "      <td>0.000063</td>\n",
       "      <td>0.000002</td>\n",
       "      <td>0.000641</td>\n",
       "      <td>0.000011</td>\n",
       "      <td>0.000017</td>\n",
       "      <td>0.000014</td>\n",
       "      <td>...</td>\n",
       "      <td>0.000582</td>\n",
       "      <td>0.000393</td>\n",
       "      <td>0.000864</td>\n",
       "      <td>0.000947</td>\n",
       "      <td>0.000136</td>\n",
       "      <td>0.000007</td>\n",
       "      <td>0.000360</td>\n",
       "      <td>0.000159</td>\n",
       "      <td>0.001025</td>\n",
       "      <td>0.000020</td>\n",
       "    </tr>\n",
       "    <tr>\n",
       "      <th>2</th>\n",
       "      <td>0.011765</td>\n",
       "      <td>0.000746</td>\n",
       "      <td>0.000784</td>\n",
       "      <td>0.000013</td>\n",
       "      <td>0.000007</td>\n",
       "      <td>0.000028</td>\n",
       "      <td>0.000041</td>\n",
       "      <td>0.000014</td>\n",
       "      <td>0.000041</td>\n",
       "      <td>0.000083</td>\n",
       "      <td>...</td>\n",
       "      <td>0.000224</td>\n",
       "      <td>0.000003</td>\n",
       "      <td>0.000031</td>\n",
       "      <td>0.002538</td>\n",
       "      <td>0.000104</td>\n",
       "      <td>0.000005</td>\n",
       "      <td>0.000064</td>\n",
       "      <td>0.005380</td>\n",
       "      <td>0.001027</td>\n",
       "      <td>0.001384</td>\n",
       "    </tr>\n",
       "    <tr>\n",
       "      <th>3</th>\n",
       "      <td>0.000223</td>\n",
       "      <td>0.000165</td>\n",
       "      <td>0.000007</td>\n",
       "      <td>0.000016</td>\n",
       "      <td>0.000005</td>\n",
       "      <td>0.000014</td>\n",
       "      <td>0.000154</td>\n",
       "      <td>0.000008</td>\n",
       "      <td>0.000004</td>\n",
       "      <td>0.000009</td>\n",
       "      <td>...</td>\n",
       "      <td>0.000046</td>\n",
       "      <td>0.000009</td>\n",
       "      <td>0.000023</td>\n",
       "      <td>0.000053</td>\n",
       "      <td>0.000048</td>\n",
       "      <td>0.000019</td>\n",
       "      <td>0.000001</td>\n",
       "      <td>0.000004</td>\n",
       "      <td>0.000380</td>\n",
       "      <td>0.000029</td>\n",
       "    </tr>\n",
       "    <tr>\n",
       "      <th>4</th>\n",
       "      <td>0.000090</td>\n",
       "      <td>0.000615</td>\n",
       "      <td>0.003436</td>\n",
       "      <td>0.001281</td>\n",
       "      <td>0.003551</td>\n",
       "      <td>0.000313</td>\n",
       "      <td>0.000042</td>\n",
       "      <td>0.000018</td>\n",
       "      <td>0.000157</td>\n",
       "      <td>0.000117</td>\n",
       "      <td>...</td>\n",
       "      <td>0.000037</td>\n",
       "      <td>0.000690</td>\n",
       "      <td>0.000171</td>\n",
       "      <td>0.000231</td>\n",
       "      <td>0.000637</td>\n",
       "      <td>0.000040</td>\n",
       "      <td>0.000061</td>\n",
       "      <td>0.000075</td>\n",
       "      <td>0.000002</td>\n",
       "      <td>0.001323</td>\n",
       "    </tr>\n",
       "  </tbody>\n",
       "</table>\n",
       "<p>5 rows × 101 columns</p>\n",
       "</div>"
      ],
      "text/plain": [
       "        0         1         2         3         4         5         6    \\\n",
       "0  0.020249  0.001578  0.000826  0.000945  0.000063  0.000003  0.001162   \n",
       "1  0.000118  0.000891  0.000188  0.000045  0.000063  0.000002  0.000641   \n",
       "2  0.011765  0.000746  0.000784  0.000013  0.000007  0.000028  0.000041   \n",
       "3  0.000223  0.000165  0.000007  0.000016  0.000005  0.000014  0.000154   \n",
       "4  0.000090  0.000615  0.003436  0.001281  0.003551  0.000313  0.000042   \n",
       "\n",
       "        7         8         9    ...       91        92        93        94   \\\n",
       "0  0.000097  0.000022  0.000010  ...  0.001042  0.000161  0.000257  0.046617   \n",
       "1  0.000011  0.000017  0.000014  ...  0.000582  0.000393  0.000864  0.000947   \n",
       "2  0.000014  0.000041  0.000083  ...  0.000224  0.000003  0.000031  0.002538   \n",
       "3  0.000008  0.000004  0.000009  ...  0.000046  0.000009  0.000023  0.000053   \n",
       "4  0.000018  0.000157  0.000117  ...  0.000037  0.000690  0.000171  0.000231   \n",
       "\n",
       "        95        96        97        98        99        100  \n",
       "0  0.000156  0.000006  0.000537  0.000339  0.008437  0.000470  \n",
       "1  0.000136  0.000007  0.000360  0.000159  0.001025  0.000020  \n",
       "2  0.000104  0.000005  0.000064  0.005380  0.001027  0.001384  \n",
       "3  0.000048  0.000019  0.000001  0.000004  0.000380  0.000029  \n",
       "4  0.000637  0.000040  0.000061  0.000075  0.000002  0.001323  \n",
       "\n",
       "[5 rows x 101 columns]"
      ]
     },
     "execution_count": 33,
     "metadata": {},
     "output_type": "execute_result"
    }
   ],
   "source": [
    "#Splitting C3D column into individual rows\n",
    "c3d1 = pd.DataFrame(c3d.C3D.apply(pd.Series))  \n",
    "c3d1.head()"
   ]
  },
  {
   "cell_type": "markdown",
   "metadata": {},
   "source": [
    "**4.2.1 Multilayer Perceptron**"
   ]
  },
  {
   "cell_type": "code",
   "execution_count": 34,
   "metadata": {},
   "outputs": [
    {
     "name": "stdout",
     "output_type": "stream",
     "text": [
      "X_train  (4800, 101)\n",
      "X_test   (1200, 101)\n",
      "Y_train  (4800, 2)\n",
      "Y_test   (1200, 2)\n",
      "Train on 4800 samples, validate on 1200 samples\n",
      "Epoch 1/10\n",
      "4800/4800 [==============================] - 1s 166us/step - loss: 0.1702 - accuracy: 0.6683 - val_loss: 0.1386 - val_accuracy: 0.7100\n",
      "Epoch 2/10\n",
      "4800/4800 [==============================] - 0s 93us/step - loss: 0.1225 - accuracy: 0.7035 - val_loss: 0.1061 - val_accuracy: 0.7100\n",
      "Epoch 3/10\n",
      "4800/4800 [==============================] - 0s 91us/step - loss: 0.0939 - accuracy: 0.7035 - val_loss: 0.0821 - val_accuracy: 0.7100\n",
      "Epoch 4/10\n",
      "4800/4800 [==============================] - 0s 95us/step - loss: 0.0732 - accuracy: 0.7035 - val_loss: 0.0644 - val_accuracy: 0.7100\n",
      "Epoch 5/10\n",
      "4800/4800 [==============================] - 0s 92us/step - loss: 0.0581 - accuracy: 0.7035 - val_loss: 0.0513 - val_accuracy: 0.7100\n",
      "Epoch 6/10\n",
      "4800/4800 [==============================] - 0s 94us/step - loss: 0.0464 - accuracy: 0.7035 - val_loss: 0.0416 - val_accuracy: 0.7100\n",
      "Epoch 7/10\n",
      "4800/4800 [==============================] - 0s 93us/step - loss: 0.0379 - accuracy: 0.7035 - val_loss: 0.0346 - val_accuracy: 0.7100\n",
      "Epoch 8/10\n",
      "4800/4800 [==============================] - 0s 100us/step - loss: 0.0317 - accuracy: 0.7035 - val_loss: 0.0291 - val_accuracy: 0.7100\n",
      "Epoch 9/10\n",
      "4800/4800 [==============================] - 0s 90us/step - loss: 0.0271 - accuracy: 0.7035 - val_loss: 0.0252 - val_accuracy: 0.7100\n",
      "Epoch 10/10\n",
      "4800/4800 [==============================] - 0s 97us/step - loss: 0.0237 - accuracy: 0.7035 - val_loss: 0.0223 - val_accuracy: 0.7100\n"
     ]
    },
    {
     "data": {
      "image/png": "[encoded data removed]",
      "text/plain": [
       "<Figure size 432x288 with 1 Axes>"
      ]
     },
     "metadata": {
      "needs_background": "light"
     },
     "output_type": "display_data"
    },
    {
     "data": {
      "image/png": "[encoded data removed]",
      "text/plain": [
       "<Figure size 432x288 with 1 Axes>"
      ]
     },
     "metadata": {
      "needs_background": "light"
     },
     "output_type": "display_data"
    },
    {
     "name": "stdout",
     "output_type": "stream",
     "text": [
      "The Spearman's correlation coefficient is: 0.272\n",
      "The Spearman's correlation coefficient is: 0.127\n"
     ]
    }
   ],
   "source": [
    "X = c3d1.values\n",
    "Y = ground_truth[['short-term_memorability','long-term_memorability']].values\n",
    "\n",
    "X_train,X_test,Y_train,Y_test = train_test_split(X,Y,test_size=0.2,random_state=42)\n",
    "\n",
    "print('X_train ', X_train.shape)\n",
    "print('X_test  ', X_test.shape)\n",
    "print('Y_train ', Y_train.shape)\n",
    "print('Y_test  ', Y_test.shape)\n",
    "\n",
    "model = Sequential() \n",
    "model.add(layers.Dense(200,activation='relu',kernel_regularizer=regularizers.l2(0.0005),input_shape=(X.shape[1],)))\n",
    "model.add(layers.Dropout(0.5))\n",
    "model.add(layers.Dense(200,activation='relu',kernel_regularizer=regularizers.l2(0.0005)))\n",
    "model.add(layers.Dropout(0.5))\n",
    "\n",
    "model.add(layers.Dense(2,activation='sigmoid'))\n",
    "\n",
    "# Compiling the model \n",
    "model.compile(optimizer='Adadelta',loss='mse',metrics=['accuracy'])\n",
    "\n",
    "# Defining the early stopping_monitor\n",
    "early_stopping_monitor = EarlyStopping(patience=5)\n",
    "\n",
    "# Training the model \n",
    "history = model.fit(X_train,Y_train,epochs=10,validation_data=(X_test, Y_test), callbacks= [early_stopping_monitor])\n",
    "\n",
    "# Visualizing the model\n",
    "loss = history.history['loss']\n",
    "val_loss = history.history['val_loss']\n",
    "\n",
    "epochs = range(1,len(loss)+1)\n",
    "\n",
    "plt.plot(epochs,loss,'bo',label='Training loss')\n",
    "plt.plot(epochs,val_loss,'b',label='Validation loss')\n",
    "plt.title('Training and validation loss')\n",
    "plt.xlabel('Epochs')\n",
    "plt.ylabel('Loss')\n",
    "plt.legend()\n",
    "plt.show()\n",
    "\n",
    "plt.figure()\n",
    "acc = history.history['accuracy']\n",
    "val_acc = history.history['val_accuracy']\n",
    "plt.plot(epochs, acc, 'bo', label='Training acc')\n",
    "plt.plot(epochs, val_acc, 'b', label='Validation acc')\n",
    "plt.title('Training and validation accuracy')\n",
    "plt.xlabel('Epochs')\n",
    "plt.ylabel('Accuracy')\n",
    "plt.legend()\n",
    "plt.show()\n",
    "\n",
    "Y_prediction_val = model.predict(X_test)\n",
    "Get_score(Y_prediction_val,Y_test)"
   ]
  },
  {
   "cell_type": "markdown",
   "metadata": {},
   "source": [
    "**4.2.2 Bagging Regressor**"
   ]
  },
  {
   "cell_type": "code",
   "execution_count": 35,
   "metadata": {},
   "outputs": [
    {
     "name": "stdout",
     "output_type": "stream",
     "text": [
      "X_train  (4800, 101)\n",
      "X_test   (1200, 101)\n",
      "Y_train  (4800, 2)\n",
      "Y_test   (1200, 2)\n",
      "The Spearman's correlation coefficient is: 0.316\n",
      "The Spearman's correlation coefficient is: 0.104\n"
     ]
    }
   ],
   "source": [
    "X = c3d1.values\n",
    "Y = ground_truth[['short-term_memorability','long-term_memorability']].values\n",
    "\n",
    "X_train,X_test,Y_train,Y_test = train_test_split(X,Y,test_size=0.2,random_state=42)\n",
    "\n",
    "print('X_train ', X_train.shape)\n",
    "print('X_test  ', X_test.shape)\n",
    "print('Y_train ', Y_train.shape)\n",
    "print('Y_test  ', Y_test.shape)\n",
    "\n",
    "c3d_br = BaggingRegressor(base_estimator = DecisionTreeRegressor(splitter = 'random'),n_estimators=100)\n",
    "c3d_br.fit(X_train,Y_train)\n",
    "\n",
    "c3d_br_prediction = c3d_br.predict(X_test)\n",
    "c3d_br_prediction\n",
    "\n",
    "Get_score(c3d_br_prediction, Y_test)"
   ]
  },
  {
   "cell_type": "markdown",
   "metadata": {},
   "source": [
    "**4.2.3 Linear Regression**"
   ]
  },
  {
   "cell_type": "code",
   "execution_count": 36,
   "metadata": {},
   "outputs": [
    {
     "name": "stdout",
     "output_type": "stream",
     "text": [
      "X_train  (4800, 101)\n",
      "X_test   (1200, 101)\n",
      "Y_train  (4800, 2)\n",
      "Y_test   (1200, 2)\n",
      "The Spearman's correlation coefficient is: 0.277\n",
      "The Spearman's correlation coefficient is: 0.103\n"
     ]
    }
   ],
   "source": [
    "X = c3d1.values\n",
    "Y = ground_truth[['short-term_memorability','long-term_memorability']].values\n",
    "\n",
    "X_train,X_test,Y_train,Y_test = train_test_split(X,Y,test_size=0.2,random_state=42)\n",
    "\n",
    "print('X_train ', X_train.shape)\n",
    "print('X_test  ', X_test.shape)\n",
    "print('Y_train ', Y_train.shape)\n",
    "print('Y_test  ', Y_test.shape)\n",
    "\n",
    "c3d_lr = LinearRegression()\n",
    "c3d_lr.fit(X_train,Y_train)\n",
    "\n",
    "c3d_lr_prediction = c3d_lr.predict(X_test)\n",
    "c3d_lr_prediction\n",
    "\n",
    "Get_score(c3d_lr_prediction, Y_test)"
   ]
  },
  {
   "cell_type": "markdown",
   "metadata": {},
   "source": [
    "# 4.3 Aesthetic median"
   ]
  },
  {
   "cell_type": "code",
   "execution_count": 37,
   "metadata": {},
   "outputs": [
    {
     "data": {
      "text/html": [
       "<div>\n",
       "<style scoped>\n",
       "    .dataframe tbody tr th:only-of-type {\n",
       "        vertical-align: middle;\n",
       "    }\n",
       "\n",
       "    .dataframe tbody tr th {\n",
       "        vertical-align: top;\n",
       "    }\n",
       "\n",
       "    .dataframe thead th {\n",
       "        text-align: right;\n",
       "    }\n",
       "</style>\n",
       "<table border=\"1\" class=\"dataframe\">\n",
       "  <thead>\n",
       "    <tr style=\"text-align: right;\">\n",
       "      <th></th>\n",
       "      <th>video</th>\n",
       "      <th>Aesthetic_Median</th>\n",
       "    </tr>\n",
       "  </thead>\n",
       "  <tbody>\n",
       "    <tr>\n",
       "      <th>0</th>\n",
       "      <td>video3.webm</td>\n",
       "      <td>[0.180874,0.715626,0.198930,0.610453,0.121610,...</td>\n",
       "    </tr>\n",
       "    <tr>\n",
       "      <th>1</th>\n",
       "      <td>video4.webm</td>\n",
       "      <td>[0.146076,0.550070,0.460729,0.424397,0.341807,...</td>\n",
       "    </tr>\n",
       "  </tbody>\n",
       "</table>\n",
       "</div>"
      ],
      "text/plain": [
       "         video                                   Aesthetic_Median\n",
       "0  video3.webm  [0.180874,0.715626,0.198930,0.610453,0.121610,...\n",
       "1  video4.webm  [0.146076,0.550070,0.460729,0.424397,0.341807,..."
      ]
     },
     "execution_count": 37,
     "metadata": {},
     "output_type": "execute_result"
    }
   ],
   "source": [
    "aes_med.head(2)"
   ]
  },
  {
   "cell_type": "code",
   "execution_count": 38,
   "metadata": {},
   "outputs": [
    {
     "data": {
      "text/html": [
       "<div>\n",
       "<style scoped>\n",
       "    .dataframe tbody tr th:only-of-type {\n",
       "        vertical-align: middle;\n",
       "    }\n",
       "\n",
       "    .dataframe tbody tr th {\n",
       "        vertical-align: top;\n",
       "    }\n",
       "\n",
       "    .dataframe thead th {\n",
       "        text-align: right;\n",
       "    }\n",
       "</style>\n",
       "<table border=\"1\" class=\"dataframe\">\n",
       "  <thead>\n",
       "    <tr style=\"text-align: right;\">\n",
       "      <th></th>\n",
       "      <th>Aesthetic_Median</th>\n",
       "    </tr>\n",
       "  </thead>\n",
       "  <tbody>\n",
       "    <tr>\n",
       "      <th>0</th>\n",
       "      <td>[0.180874,0.715626,0.198930,0.610453,0.121610,...</td>\n",
       "    </tr>\n",
       "    <tr>\n",
       "      <th>1</th>\n",
       "      <td>[0.146076,0.550070,0.460729,0.424397,0.341807,...</td>\n",
       "    </tr>\n",
       "    <tr>\n",
       "      <th>2</th>\n",
       "      <td>[0.063898,0.827439,0.211925,0.720297,0.129499,...</td>\n",
       "    </tr>\n",
       "    <tr>\n",
       "      <th>3</th>\n",
       "      <td>[0.380539,0.134683,0.746891,0.171604,0.697045,...</td>\n",
       "    </tr>\n",
       "    <tr>\n",
       "      <th>4</th>\n",
       "      <td>[0.427258,0.381448,0.582746,0.409475,0.489531,...</td>\n",
       "    </tr>\n",
       "  </tbody>\n",
       "</table>\n",
       "</div>"
      ],
      "text/plain": [
       "                                    Aesthetic_Median\n",
       "0  [0.180874,0.715626,0.198930,0.610453,0.121610,...\n",
       "1  [0.146076,0.550070,0.460729,0.424397,0.341807,...\n",
       "2  [0.063898,0.827439,0.211925,0.720297,0.129499,...\n",
       "3  [0.380539,0.134683,0.746891,0.171604,0.697045,...\n",
       "4  [0.427258,0.381448,0.582746,0.409475,0.489531,..."
      ]
     },
     "execution_count": 38,
     "metadata": {},
     "output_type": "execute_result"
    }
   ],
   "source": [
    "#Dropping the video column\n",
    "aes_med1 = aes_med.drop('video',axis=1)  \n",
    "aes_med1.head()"
   ]
  },
  {
   "cell_type": "code",
   "execution_count": 39,
   "metadata": {},
   "outputs": [
    {
     "data": {
      "text/html": [
       "<div>\n",
       "<style scoped>\n",
       "    .dataframe tbody tr th:only-of-type {\n",
       "        vertical-align: middle;\n",
       "    }\n",
       "\n",
       "    .dataframe tbody tr th {\n",
       "        vertical-align: top;\n",
       "    }\n",
       "\n",
       "    .dataframe thead th {\n",
       "        text-align: right;\n",
       "    }\n",
       "</style>\n",
       "<table border=\"1\" class=\"dataframe\">\n",
       "  <thead>\n",
       "    <tr style=\"text-align: right;\">\n",
       "      <th></th>\n",
       "      <th>0</th>\n",
       "      <th>1</th>\n",
       "      <th>2</th>\n",
       "      <th>3</th>\n",
       "      <th>4</th>\n",
       "      <th>5</th>\n",
       "      <th>6</th>\n",
       "      <th>7</th>\n",
       "      <th>8</th>\n",
       "      <th>9</th>\n",
       "      <th>...</th>\n",
       "      <th>99</th>\n",
       "      <th>100</th>\n",
       "      <th>101</th>\n",
       "      <th>102</th>\n",
       "      <th>103</th>\n",
       "      <th>104</th>\n",
       "      <th>105</th>\n",
       "      <th>106</th>\n",
       "      <th>107</th>\n",
       "      <th>108</th>\n",
       "    </tr>\n",
       "  </thead>\n",
       "  <tbody>\n",
       "    <tr>\n",
       "      <th>0</th>\n",
       "      <td>0.180874</td>\n",
       "      <td>0.715626</td>\n",
       "      <td>0.198930</td>\n",
       "      <td>0.610453</td>\n",
       "      <td>0.121610</td>\n",
       "      <td>0.692880</td>\n",
       "      <td>55.008914</td>\n",
       "      <td>0.103175</td>\n",
       "      <td>0.001049</td>\n",
       "      <td>2.000000</td>\n",
       "      <td>...</td>\n",
       "      <td>-0.002154</td>\n",
       "      <td>-0.000850</td>\n",
       "      <td>0.000000</td>\n",
       "      <td>0.260845</td>\n",
       "      <td>0.294153</td>\n",
       "      <td>0.575061</td>\n",
       "      <td>0.000000</td>\n",
       "      <td>0.129661</td>\n",
       "      <td>0.412381</td>\n",
       "      <td>0.788761</td>\n",
       "    </tr>\n",
       "    <tr>\n",
       "      <th>1</th>\n",
       "      <td>0.146076</td>\n",
       "      <td>0.550070</td>\n",
       "      <td>0.460729</td>\n",
       "      <td>0.424397</td>\n",
       "      <td>0.341807</td>\n",
       "      <td>0.398212</td>\n",
       "      <td>47.307755</td>\n",
       "      <td>0.119048</td>\n",
       "      <td>0.001859</td>\n",
       "      <td>2.000000</td>\n",
       "      <td>...</td>\n",
       "      <td>0.000007</td>\n",
       "      <td>-0.000399</td>\n",
       "      <td>0.920270</td>\n",
       "      <td>0.337932</td>\n",
       "      <td>0.382134</td>\n",
       "      <td>0.943198</td>\n",
       "      <td>0.000000</td>\n",
       "      <td>0.692224</td>\n",
       "      <td>0.762354</td>\n",
       "      <td>-0.561793</td>\n",
       "    </tr>\n",
       "  </tbody>\n",
       "</table>\n",
       "<p>2 rows × 109 columns</p>\n",
       "</div>"
      ],
      "text/plain": [
       "        0         1         2         3         4         5          6    \\\n",
       "0  0.180874  0.715626  0.198930  0.610453  0.121610  0.692880  55.008914   \n",
       "1  0.146076  0.550070  0.460729  0.424397  0.341807  0.398212  47.307755   \n",
       "\n",
       "        7         8         9    ...        99         100       101  \\\n",
       "0  0.103175  0.001049  2.000000  ...  -0.002154  -0.000850  0.000000   \n",
       "1  0.119048  0.001859  2.000000  ...   0.000007  -0.000399  0.920270   \n",
       "\n",
       "        102       103       104       105       106       107        108  \n",
       "0  0.260845  0.294153  0.575061  0.000000  0.129661  0.412381   0.788761  \n",
       "1  0.337932  0.382134  0.943198  0.000000  0.692224  0.762354  -0.561793  \n",
       "\n",
       "[2 rows x 109 columns]"
      ]
     },
     "execution_count": 39,
     "metadata": {},
     "output_type": "execute_result"
    }
   ],
   "source": [
    "#Splitting out Aesthetic Median column into individual rows\n",
    "aes_med1 = pd.DataFrame(aes_med.Aesthetic_Median.apply(pd.Series)) \n",
    "aes_med1.rename(columns={0:'aes'}, inplace=True)\n",
    "aes_med1=aes_med1.aes.apply(lambda x: pd.Series(str(x).split(\",\")))\n",
    "aes_med1.head(2)"
   ]
  },
  {
   "cell_type": "markdown",
   "metadata": {},
   "source": [
    "**4.3.1 Multilayer Perceptron**"
   ]
  },
  {
   "cell_type": "code",
   "execution_count": 40,
   "metadata": {},
   "outputs": [
    {
     "name": "stdout",
     "output_type": "stream",
     "text": [
      "X_train  (4800, 109)\n",
      "X_test   (1200, 109)\n",
      "Y_train  (4800, 2)\n",
      "Y_test   (1200, 2)\n",
      "Train on 4800 samples, validate on 1200 samples\n",
      "Epoch 1/20\n",
      "4800/4800 [==============================] - 1s 199us/step - loss: 0.2078 - accuracy: 0.6831 - val_loss: 0.1843 - val_accuracy: 0.7100\n",
      "Epoch 2/20\n",
      "4800/4800 [==============================] - 1s 119us/step - loss: 0.1662 - accuracy: 0.7008 - val_loss: 0.1521 - val_accuracy: 0.7100\n",
      "Epoch 3/20\n",
      "4800/4800 [==============================] - 1s 123us/step - loss: 0.1379 - accuracy: 0.7017 - val_loss: 0.1273 - val_accuracy: 0.7100\n",
      "Epoch 4/20\n",
      "4800/4800 [==============================] - 1s 120us/step - loss: 0.1156 - accuracy: 0.7019 - val_loss: 0.1078 - val_accuracy: 0.7100\n",
      "Epoch 5/20\n",
      "4800/4800 [==============================] - 1s 118us/step - loss: 0.0987 - accuracy: 0.7015 - val_loss: 0.0933 - val_accuracy: 0.7100\n",
      "Epoch 6/20\n",
      "4800/4800 [==============================] - 1s 126us/step - loss: 0.0857 - accuracy: 0.7019 - val_loss: 0.0819 - val_accuracy: 0.7100\n",
      "Epoch 7/20\n",
      "4800/4800 [==============================] - 1s 120us/step - loss: 0.0759 - accuracy: 0.6925 - val_loss: 0.0735 - val_accuracy: 0.7100\n",
      "Epoch 8/20\n",
      "4800/4800 [==============================] - 1s 125us/step - loss: 0.0689 - accuracy: 0.6760 - val_loss: 0.0678 - val_accuracy: 0.7100\n",
      "Epoch 9/20\n",
      "4800/4800 [==============================] - 1s 125us/step - loss: 0.0644 - accuracy: 0.6967 - val_loss: 0.0638 - val_accuracy: 0.7100\n",
      "Epoch 10/20\n",
      "4800/4800 [==============================] - 1s 121us/step - loss: 0.0609 - accuracy: 0.6827 - val_loss: 0.0609 - val_accuracy: 0.7092\n",
      "Epoch 11/20\n",
      "4800/4800 [==============================] - 1s 125us/step - loss: 0.0583 - accuracy: 0.6352 - val_loss: 0.0586 - val_accuracy: 0.6467\n",
      "Epoch 12/20\n",
      "4800/4800 [==============================] - 1s 122us/step - loss: 0.0560 - accuracy: 0.6240 - val_loss: 0.0553 - val_accuracy: 0.7100\n",
      "Epoch 13/20\n",
      "4800/4800 [==============================] - 1s 125us/step - loss: 0.0410 - accuracy: 0.6648 - val_loss: 0.0239 - val_accuracy: 0.7100\n",
      "Epoch 14/20\n",
      "4800/4800 [==============================] - 1s 121us/step - loss: 0.0259 - accuracy: 0.6885 - val_loss: 0.0199 - val_accuracy: 0.7100\n",
      "Epoch 15/20\n",
      "4800/4800 [==============================] - 1s 143us/step - loss: 0.0221 - accuracy: 0.6996 - val_loss: 0.0186 - val_accuracy: 0.7100\n",
      "Epoch 16/20\n",
      "4800/4800 [==============================] - 1s 191us/step - loss: 0.0207 - accuracy: 0.7017 - val_loss: 0.0239 - val_accuracy: 0.7100\n",
      "Epoch 17/20\n",
      "4800/4800 [==============================] - 1s 128us/step - loss: 0.0196 - accuracy: 0.7035 - val_loss: 0.0179 - val_accuracy: 0.7100\n",
      "Epoch 18/20\n",
      "4800/4800 [==============================] - 1s 122us/step - loss: 0.0183 - accuracy: 0.7008 - val_loss: 0.0183 - val_accuracy: 0.7100\n",
      "Epoch 19/20\n",
      "4800/4800 [==============================] - 1s 122us/step - loss: 0.0177 - accuracy: 0.7013 - val_loss: 0.0174 - val_accuracy: 0.7100\n",
      "Epoch 20/20\n",
      "4800/4800 [==============================] - 1s 118us/step - loss: 0.0170 - accuracy: 0.7038 - val_loss: 0.0180 - val_accuracy: 0.7100\n"
     ]
    },
    {
     "data": {
      "image/png": "[encoded data removed]",
      "text/plain": [
       "<Figure size 432x288 with 1 Axes>"
      ]
     },
     "metadata": {
      "needs_background": "light"
     },
     "output_type": "display_data"
    },
    {
     "data": {
      "image/png": "[encoded data removed]",
      "text/plain": [
       "<Figure size 432x288 with 1 Axes>"
      ]
     },
     "metadata": {
      "needs_background": "light"
     },
     "output_type": "display_data"
    },
    {
     "name": "stdout",
     "output_type": "stream",
     "text": [
      "The Spearman's correlation coefficient is: 0.053\n",
      "The Spearman's correlation coefficient is: 0.057\n"
     ]
    }
   ],
   "source": [
    "X = aes_med1.values\n",
    "Y = ground_truth[['short-term_memorability','long-term_memorability']].values\n",
    "\n",
    "X_train,X_test,Y_train,Y_test = train_test_split(X,Y,test_size=0.2,random_state=42)\n",
    "\n",
    "print('X_train ', X_train.shape)\n",
    "print('X_test  ', X_test.shape)\n",
    "print('Y_train ', Y_train.shape)\n",
    "print('Y_test  ', Y_test.shape)\n",
    "\n",
    "model = Sequential() \n",
    "model.add(layers.Dense(200,activation='relu',kernel_regularizer=regularizers.l2(0.0005),input_shape=(X.shape[1],))) \n",
    "model.add(layers.Dropout(0.5))\n",
    "model.add(layers.Dense(200,activation='relu',kernel_regularizer=regularizers.l2(0.0005)))\n",
    "model.add(layers.Dropout(0.5))\n",
    "\n",
    "model.add(layers.Dense(2,activation='sigmoid'))\n",
    "\n",
    "# Compiling the model \n",
    "model.compile(optimizer='Adadelta',loss='mse',metrics=['accuracy'])\n",
    "\n",
    "# Defining the early stopping_monitor\n",
    "early_stopping_monitor = EarlyStopping(patience=5)\n",
    "\n",
    "# Training the model \n",
    "history = model.fit(X_train,Y_train,epochs=20,validation_data=(X_test, Y_test), callbacks= [early_stopping_monitor])\n",
    "\n",
    "# Visualizing the model\n",
    "loss = history.history['loss']\n",
    "val_loss = history.history['val_loss']\n",
    "\n",
    "epochs = range(1,len(loss)+1)\n",
    "\n",
    "plt.plot(epochs,loss,'bo',label='Training loss')\n",
    "plt.plot(epochs,val_loss,'b',label='Validation loss')\n",
    "plt.title('Training and validation loss')\n",
    "plt.xlabel('Epochs')\n",
    "plt.ylabel('Loss')\n",
    "plt.legend()\n",
    "plt.show()\n",
    "\n",
    "plt.figure()\n",
    "acc = history.history['accuracy']\n",
    "val_acc = history.history['val_accuracy']\n",
    "plt.plot(epochs, acc, 'bo', label='Training acc')\n",
    "plt.plot(epochs, val_acc, 'b', label='Validation acc')\n",
    "plt.title('Training and validation accuracy')\n",
    "plt.xlabel('Epochs')\n",
    "plt.ylabel('Accuracy')\n",
    "plt.legend()\n",
    "plt.show()\n",
    "\n",
    "Y_prediction_val = model.predict(X_test)\n",
    "Get_score(Y_prediction_val,Y_test)"
   ]
  },
  {
   "cell_type": "markdown",
   "metadata": {},
   "source": [
    "**4.3.2 Bagging Regressor**"
   ]
  },
  {
   "cell_type": "code",
   "execution_count": 41,
   "metadata": {},
   "outputs": [
    {
     "name": "stdout",
     "output_type": "stream",
     "text": [
      "X_train  (4800, 109)\n",
      "X_test   (1200, 109)\n",
      "Y_train  (4800, 2)\n",
      "Y_test   (1200, 2)\n",
      "The Spearman's correlation coefficient is: 0.288\n",
      "The Spearman's correlation coefficient is: 0.104\n"
     ]
    }
   ],
   "source": [
    "X = aes_med1.values\n",
    "Y = ground_truth[['short-term_memorability','long-term_memorability']].values\n",
    "\n",
    "X_train,X_test,Y_train,Y_test = train_test_split(X,Y,test_size=0.2,random_state=42)\n",
    "\n",
    "print('X_train ', X_train.shape)\n",
    "print('X_test  ', X_test.shape)\n",
    "print('Y_train ', Y_train.shape)\n",
    "print('Y_test  ', Y_test.shape)\n",
    "\n",
    "aes_med_br = BaggingRegressor(base_estimator = DecisionTreeRegressor(splitter = 'random'),n_estimators=100)\n",
    "aes_med_br.fit(X_train,Y_train)\n",
    "\n",
    "aes_med_br_prediction = aes_med_br.predict(X_test)\n",
    "aes_med_br_prediction\n",
    "\n",
    "Get_score(aes_med_br_prediction, Y_test)"
   ]
  },
  {
   "cell_type": "markdown",
   "metadata": {},
   "source": [
    "**4.3.3 Linear Regression**"
   ]
  },
  {
   "cell_type": "code",
   "execution_count": 42,
   "metadata": {},
   "outputs": [
    {
     "name": "stdout",
     "output_type": "stream",
     "text": [
      "X_train  (4800, 109)\n",
      "X_test   (1200, 109)\n",
      "Y_train  (4800, 2)\n",
      "Y_test   (1200, 2)\n",
      "The Spearman's correlation coefficient is: 0.271\n",
      "The Spearman's correlation coefficient is: 0.111\n"
     ]
    }
   ],
   "source": [
    "X = aes_med1.values\n",
    "Y = ground_truth[['short-term_memorability','long-term_memorability']].values\n",
    "\n",
    "X_train,X_test,Y_train,Y_test = train_test_split(X,Y,test_size=0.2,random_state=42)\n",
    "\n",
    "print('X_train ', X_train.shape)\n",
    "print('X_test  ', X_test.shape)\n",
    "print('Y_train ', Y_train.shape)\n",
    "print('Y_test  ', Y_test.shape)\n",
    "\n",
    "aes_med_lr = LinearRegression()\n",
    "aes_med_lr.fit(X_train,Y_train)\n",
    "\n",
    "aes_med_lr_prediction = aes_med_lr.predict(X_test)\n",
    "aes_med_lr_prediction\n",
    "\n",
    "Get_score(aes_med_lr_prediction, Y_test)"
   ]
  },
  {
   "cell_type": "markdown",
   "metadata": {},
   "source": [
    "# 4.4 Aesthetic Mean"
   ]
  },
  {
   "cell_type": "code",
   "execution_count": 43,
   "metadata": {},
   "outputs": [
    {
     "data": {
      "text/html": [
       "<div>\n",
       "<style scoped>\n",
       "    .dataframe tbody tr th:only-of-type {\n",
       "        vertical-align: middle;\n",
       "    }\n",
       "\n",
       "    .dataframe tbody tr th {\n",
       "        vertical-align: top;\n",
       "    }\n",
       "\n",
       "    .dataframe thead th {\n",
       "        text-align: right;\n",
       "    }\n",
       "</style>\n",
       "<table border=\"1\" class=\"dataframe\">\n",
       "  <thead>\n",
       "    <tr style=\"text-align: right;\">\n",
       "      <th></th>\n",
       "      <th>video</th>\n",
       "      <th>Aesthetic_Mean</th>\n",
       "    </tr>\n",
       "  </thead>\n",
       "  <tbody>\n",
       "    <tr>\n",
       "      <th>0</th>\n",
       "      <td>video3.webm</td>\n",
       "      <td>[0.183890,0.713733,0.202302,0.610132,0.124278,...</td>\n",
       "    </tr>\n",
       "    <tr>\n",
       "      <th>1</th>\n",
       "      <td>video4.webm</td>\n",
       "      <td>[0.147255,0.550718,0.460299,0.424981,0.341784,...</td>\n",
       "    </tr>\n",
       "  </tbody>\n",
       "</table>\n",
       "</div>"
      ],
      "text/plain": [
       "         video                                     Aesthetic_Mean\n",
       "0  video3.webm  [0.183890,0.713733,0.202302,0.610132,0.124278,...\n",
       "1  video4.webm  [0.147255,0.550718,0.460299,0.424981,0.341784,..."
      ]
     },
     "execution_count": 43,
     "metadata": {},
     "output_type": "execute_result"
    }
   ],
   "source": [
    "aes_mean.head(2)"
   ]
  },
  {
   "cell_type": "code",
   "execution_count": 44,
   "metadata": {},
   "outputs": [
    {
     "data": {
      "text/html": [
       "<div>\n",
       "<style scoped>\n",
       "    .dataframe tbody tr th:only-of-type {\n",
       "        vertical-align: middle;\n",
       "    }\n",
       "\n",
       "    .dataframe tbody tr th {\n",
       "        vertical-align: top;\n",
       "    }\n",
       "\n",
       "    .dataframe thead th {\n",
       "        text-align: right;\n",
       "    }\n",
       "</style>\n",
       "<table border=\"1\" class=\"dataframe\">\n",
       "  <thead>\n",
       "    <tr style=\"text-align: right;\">\n",
       "      <th></th>\n",
       "      <th>Aesthetic_Mean</th>\n",
       "    </tr>\n",
       "  </thead>\n",
       "  <tbody>\n",
       "    <tr>\n",
       "      <th>0</th>\n",
       "      <td>[0.183890,0.713733,0.202302,0.610132,0.124278,...</td>\n",
       "    </tr>\n",
       "    <tr>\n",
       "      <th>1</th>\n",
       "      <td>[0.147255,0.550718,0.460299,0.424981,0.341784,...</td>\n",
       "    </tr>\n",
       "    <tr>\n",
       "      <th>2</th>\n",
       "      <td>[0.063933,0.826933,0.214129,0.719341,0.130606,...</td>\n",
       "    </tr>\n",
       "    <tr>\n",
       "      <th>3</th>\n",
       "      <td>[0.367527,0.133869,0.746074,0.169317,0.696747,...</td>\n",
       "    </tr>\n",
       "    <tr>\n",
       "      <th>4</th>\n",
       "      <td>[0.402878,0.389358,0.564687,0.400378,0.471548,...</td>\n",
       "    </tr>\n",
       "  </tbody>\n",
       "</table>\n",
       "</div>"
      ],
      "text/plain": [
       "                                      Aesthetic_Mean\n",
       "0  [0.183890,0.713733,0.202302,0.610132,0.124278,...\n",
       "1  [0.147255,0.550718,0.460299,0.424981,0.341784,...\n",
       "2  [0.063933,0.826933,0.214129,0.719341,0.130606,...\n",
       "3  [0.367527,0.133869,0.746074,0.169317,0.696747,...\n",
       "4  [0.402878,0.389358,0.564687,0.400378,0.471548,..."
      ]
     },
     "execution_count": 44,
     "metadata": {},
     "output_type": "execute_result"
    }
   ],
   "source": [
    "#Removing the video column\n",
    "aes_mean1 = aes_mean.drop('video',axis=1) \n",
    "aes_mean1.head()"
   ]
  },
  {
   "cell_type": "code",
   "execution_count": 45,
   "metadata": {},
   "outputs": [
    {
     "data": {
      "text/html": [
       "<div>\n",
       "<style scoped>\n",
       "    .dataframe tbody tr th:only-of-type {\n",
       "        vertical-align: middle;\n",
       "    }\n",
       "\n",
       "    .dataframe tbody tr th {\n",
       "        vertical-align: top;\n",
       "    }\n",
       "\n",
       "    .dataframe thead th {\n",
       "        text-align: right;\n",
       "    }\n",
       "</style>\n",
       "<table border=\"1\" class=\"dataframe\">\n",
       "  <thead>\n",
       "    <tr style=\"text-align: right;\">\n",
       "      <th></th>\n",
       "      <th>0</th>\n",
       "      <th>1</th>\n",
       "      <th>2</th>\n",
       "      <th>3</th>\n",
       "      <th>4</th>\n",
       "      <th>5</th>\n",
       "      <th>6</th>\n",
       "      <th>7</th>\n",
       "      <th>8</th>\n",
       "      <th>9</th>\n",
       "      <th>...</th>\n",
       "      <th>99</th>\n",
       "      <th>100</th>\n",
       "      <th>101</th>\n",
       "      <th>102</th>\n",
       "      <th>103</th>\n",
       "      <th>104</th>\n",
       "      <th>105</th>\n",
       "      <th>106</th>\n",
       "      <th>107</th>\n",
       "      <th>108</th>\n",
       "    </tr>\n",
       "  </thead>\n",
       "  <tbody>\n",
       "    <tr>\n",
       "      <th>0</th>\n",
       "      <td>0.183890</td>\n",
       "      <td>0.713733</td>\n",
       "      <td>0.202302</td>\n",
       "      <td>0.610132</td>\n",
       "      <td>0.124278</td>\n",
       "      <td>0.691408</td>\n",
       "      <td>54.980466</td>\n",
       "      <td>0.098504</td>\n",
       "      <td>0.000973</td>\n",
       "      <td>2.000000</td>\n",
       "      <td>...</td>\n",
       "      <td>0.001727</td>\n",
       "      <td>-0.002716</td>\n",
       "      <td>0.290079</td>\n",
       "      <td>0.295183</td>\n",
       "      <td>0.352099</td>\n",
       "      <td>0.570387</td>\n",
       "      <td>0.000000</td>\n",
       "      <td>3.787912</td>\n",
       "      <td>0.236836</td>\n",
       "      <td>0.748159</td>\n",
       "    </tr>\n",
       "    <tr>\n",
       "      <th>1</th>\n",
       "      <td>0.147255</td>\n",
       "      <td>0.550718</td>\n",
       "      <td>0.460299</td>\n",
       "      <td>0.424981</td>\n",
       "      <td>0.341784</td>\n",
       "      <td>0.397867</td>\n",
       "      <td>47.395202</td>\n",
       "      <td>0.119074</td>\n",
       "      <td>0.002255</td>\n",
       "      <td>2.000000</td>\n",
       "      <td>...</td>\n",
       "      <td>-0.000572</td>\n",
       "      <td>-0.000242</td>\n",
       "      <td>0.700697</td>\n",
       "      <td>0.302694</td>\n",
       "      <td>0.378382</td>\n",
       "      <td>0.795025</td>\n",
       "      <td>0.000000</td>\n",
       "      <td>0.951803</td>\n",
       "      <td>-0.682860</td>\n",
       "      <td>-2.001414</td>\n",
       "    </tr>\n",
       "  </tbody>\n",
       "</table>\n",
       "<p>2 rows × 109 columns</p>\n",
       "</div>"
      ],
      "text/plain": [
       "        0         1         2         3         4         5          6    \\\n",
       "0  0.183890  0.713733  0.202302  0.610132  0.124278  0.691408  54.980466   \n",
       "1  0.147255  0.550718  0.460299  0.424981  0.341784  0.397867  47.395202   \n",
       "\n",
       "        7         8         9    ...        99         100       101  \\\n",
       "0  0.098504  0.000973  2.000000  ...   0.001727  -0.002716  0.290079   \n",
       "1  0.119074  0.002255  2.000000  ...  -0.000572  -0.000242  0.700697   \n",
       "\n",
       "        102       103       104       105       106        107        108  \n",
       "0  0.295183  0.352099  0.570387  0.000000  3.787912   0.236836   0.748159  \n",
       "1  0.302694  0.378382  0.795025  0.000000  0.951803  -0.682860  -2.001414  \n",
       "\n",
       "[2 rows x 109 columns]"
      ]
     },
     "execution_count": 45,
     "metadata": {},
     "output_type": "execute_result"
    }
   ],
   "source": [
    "#Splitting out Aesthetic_Mean column into individual rows\n",
    "aes_mean1 = pd.DataFrame(aes_mean.Aesthetic_Mean.apply(pd.Series)) \n",
    "aes_mean1.rename(columns={0:'aes'}, inplace=True)\n",
    "aes_mean1=aes_mean1.aes.apply(lambda x: pd.Series(str(x).split(\",\")))\n",
    "aes_mean1.head(2)"
   ]
  },
  {
   "cell_type": "markdown",
   "metadata": {},
   "source": [
    "**4.4.1 Multilayer Perceptron**"
   ]
  },
  {
   "cell_type": "code",
   "execution_count": 46,
   "metadata": {},
   "outputs": [
    {
     "name": "stdout",
     "output_type": "stream",
     "text": [
      "X_train  (4800, 109)\n",
      "X_test   (1200, 109)\n",
      "Y_train  (4800, 2)\n",
      "Y_test   (1200, 2)\n",
      "Train on 4800 samples, validate on 1200 samples\n",
      "Epoch 1/20\n",
      "4800/4800 [==============================] - 1s 202us/step - loss: 0.2197 - accuracy: 0.6869 - val_loss: 0.1871 - val_accuracy: 0.7100\n",
      "Epoch 2/20\n",
      "4800/4800 [==============================] - 1s 122us/step - loss: 0.1709 - accuracy: 0.7013 - val_loss: 0.1562 - val_accuracy: 0.7100\n",
      "Epoch 3/20\n",
      "4800/4800 [==============================] - 1s 129us/step - loss: 0.1417 - accuracy: 0.6977 - val_loss: 0.1310 - val_accuracy: 0.7100\n",
      "Epoch 4/20\n",
      "4800/4800 [==============================] - 1s 121us/step - loss: 0.1193 - accuracy: 0.6996 - val_loss: 0.1113 - val_accuracy: 0.7100\n",
      "Epoch 5/20\n",
      "4800/4800 [==============================] - 1s 122us/step - loss: 0.1021 - accuracy: 0.6992 - val_loss: 0.0964 - val_accuracy: 0.7100\n",
      "Epoch 6/20\n",
      "4800/4800 [==============================] - 1s 124us/step - loss: 0.0890 - accuracy: 0.6963 - val_loss: 0.0850 - val_accuracy: 0.7100\n",
      "Epoch 7/20\n",
      "4800/4800 [==============================] - 1s 122us/step - loss: 0.0795 - accuracy: 0.6827 - val_loss: 0.0771 - val_accuracy: 0.7083\n",
      "Epoch 8/20\n",
      "4800/4800 [==============================] - 1s 125us/step - loss: 0.0720 - accuracy: 0.6831 - val_loss: 0.0704 - val_accuracy: 0.7050\n",
      "Epoch 9/20\n",
      "4800/4800 [==============================] - 1s 124us/step - loss: 0.0666 - accuracy: 0.6627 - val_loss: 0.0656 - val_accuracy: 0.7050\n",
      "Epoch 10/20\n",
      "4800/4800 [==============================] - 1s 125us/step - loss: 0.0625 - accuracy: 0.6602 - val_loss: 0.0620 - val_accuracy: 0.7092\n",
      "Epoch 11/20\n",
      "4800/4800 [==============================] - 1s 122us/step - loss: 0.0590 - accuracy: 0.6840 - val_loss: 0.0592 - val_accuracy: 0.7100\n",
      "Epoch 12/20\n",
      "4800/4800 [==============================] - 1s 128us/step - loss: 0.0566 - accuracy: 0.6794 - val_loss: 0.0569 - val_accuracy: 0.7100\n",
      "Epoch 13/20\n",
      "4800/4800 [==============================] - 1s 125us/step - loss: 0.0546 - accuracy: 0.6400 - val_loss: 0.0555 - val_accuracy: 0.6233\n",
      "Epoch 14/20\n",
      "4800/4800 [==============================] - 1s 125us/step - loss: 0.0535 - accuracy: 0.6396 - val_loss: 0.0543 - val_accuracy: 0.6850\n",
      "Epoch 15/20\n",
      "4800/4800 [==============================] - 1s 125us/step - loss: 0.0521 - accuracy: 0.5913 - val_loss: 0.0534 - val_accuracy: 0.3817\n",
      "Epoch 16/20\n",
      "4800/4800 [==============================] - 1s 128us/step - loss: 0.0513 - accuracy: 0.5396 - val_loss: 0.0512 - val_accuracy: 0.3042\n",
      "Epoch 17/20\n",
      "4800/4800 [==============================] - 1s 122us/step - loss: 0.0326 - accuracy: 0.6092 - val_loss: 0.0198 - val_accuracy: 0.7100\n",
      "Epoch 18/20\n",
      "4800/4800 [==============================] - 1s 125us/step - loss: 0.0221 - accuracy: 0.6960 - val_loss: 0.0180 - val_accuracy: 0.7100\n",
      "Epoch 19/20\n",
      "4800/4800 [==============================] - 1s 122us/step - loss: 0.0201 - accuracy: 0.6979 - val_loss: 0.0166 - val_accuracy: 0.7100\n",
      "Epoch 20/20\n",
      "4800/4800 [==============================] - 1s 125us/step - loss: 0.0188 - accuracy: 0.6975 - val_loss: 0.0172 - val_accuracy: 0.7100\n"
     ]
    },
    {
     "data": {
      "image/png": "[encoded data removed]",
      "text/plain": [
       "<Figure size 432x288 with 1 Axes>"
      ]
     },
     "metadata": {
      "needs_background": "light"
     },
     "output_type": "display_data"
    },
    {
     "data": {
      "image/png": "[encoded data removed]",
      "text/plain": [
       "<Figure size 432x288 with 1 Axes>"
      ]
     },
     "metadata": {
      "needs_background": "light"
     },
     "output_type": "display_data"
    },
    {
     "name": "stdout",
     "output_type": "stream",
     "text": [
      "The Spearman's correlation coefficient is: 0.126\n",
      "The Spearman's correlation coefficient is: 0.063\n"
     ]
    }
   ],
   "source": [
    "X = aes_mean1.values\n",
    "Y = ground_truth[['short-term_memorability','long-term_memorability']].values\n",
    "\n",
    "X_train,X_test,Y_train,Y_test = train_test_split(X,Y,test_size=0.2,random_state=42)\n",
    "\n",
    "print('X_train ', X_train.shape)\n",
    "print('X_test  ', X_test.shape)\n",
    "print('Y_train ', Y_train.shape)\n",
    "print('Y_test  ', Y_test.shape)\n",
    "\n",
    "model = Sequential()\n",
    "model.add(layers.Dense(200,activation='relu',kernel_regularizer=regularizers.l2(0.0005),input_shape=(X.shape[1],))) \n",
    "model.add(layers.Dropout(0.5))\n",
    "model.add(layers.Dense(200,activation='relu',kernel_regularizer=regularizers.l2(0.0005)))\n",
    "model.add(layers.Dropout(0.5))\n",
    "\n",
    "model.add(layers.Dense(2,activation='sigmoid'))\n",
    "\n",
    "# Compiling the model \n",
    "model.compile(optimizer='Adadelta',loss='mse',metrics=['accuracy'])\n",
    "\n",
    "# Defining the early stopping_monitor\n",
    "early_stopping_monitor = EarlyStopping(patience=5)\n",
    "\n",
    "# Training the model \n",
    "history = model.fit(X_train,Y_train,epochs=20,validation_data=(X_test, Y_test), callbacks= [early_stopping_monitor])\n",
    "\n",
    "# Visualizing the model\n",
    "loss = history.history['loss']\n",
    "val_loss = history.history['val_loss']\n",
    "\n",
    "epochs = range(1,len(loss)+1)\n",
    "\n",
    "plt.plot(epochs,loss,'bo',label='Training loss')\n",
    "plt.plot(epochs,val_loss,'b',label='Validation loss')\n",
    "plt.title('Training and validation loss')\n",
    "plt.xlabel('Epochs')\n",
    "plt.ylabel('Loss')\n",
    "plt.legend()\n",
    "plt.show()\n",
    "\n",
    "plt.figure()\n",
    "acc = history.history['accuracy']\n",
    "val_acc = history.history['val_accuracy']\n",
    "plt.plot(epochs, acc, 'bo', label='Training acc')\n",
    "plt.plot(epochs, val_acc, 'b', label='Validation acc')\n",
    "plt.title('Training and validation accuracy')\n",
    "plt.xlabel('Epochs')\n",
    "plt.ylabel('Accuracy')\n",
    "plt.legend()\n",
    "plt.show()\n",
    "\n",
    "Y_prediction_val = model.predict(X_test)\n",
    "Get_score(Y_prediction_val,Y_test)"
   ]
  },
  {
   "cell_type": "markdown",
   "metadata": {},
   "source": [
    "**4.4.2 Bagging Regressor**"
   ]
  },
  {
   "cell_type": "code",
   "execution_count": 47,
   "metadata": {},
   "outputs": [
    {
     "name": "stdout",
     "output_type": "stream",
     "text": [
      "X_train  (4800, 109)\n",
      "X_test   (1200, 109)\n",
      "Y_train  (4800, 2)\n",
      "Y_test   (1200, 2)\n",
      "The Spearman's correlation coefficient is: 0.286\n",
      "The Spearman's correlation coefficient is: 0.112\n"
     ]
    }
   ],
   "source": [
    "X = aes_mean1.values\n",
    "Y = ground_truth[['short-term_memorability','long-term_memorability']].values\n",
    "\n",
    "X_train,X_test,Y_train,Y_test = train_test_split(X,Y,test_size=0.2,random_state=42)\n",
    "\n",
    "print('X_train ', X_train.shape)\n",
    "print('X_test  ', X_test.shape)\n",
    "print('Y_train ', Y_train.shape)\n",
    "print('Y_test  ', Y_test.shape)\n",
    "\n",
    "aes_mean_br = BaggingRegressor(base_estimator = DecisionTreeRegressor(splitter = 'random'),n_estimators=100)\n",
    "aes_mean_br.fit(X_train,Y_train)\n",
    "\n",
    "aes_mean_br_prediction = aes_mean_br.predict(X_test)\n",
    "aes_mean_br_prediction\n",
    "\n",
    "Get_score(aes_mean_br_prediction, Y_test)"
   ]
  },
  {
   "cell_type": "markdown",
   "metadata": {},
   "source": [
    "**4.4.3 Linear Regression**"
   ]
  },
  {
   "cell_type": "code",
   "execution_count": 48,
   "metadata": {
    "scrolled": true
   },
   "outputs": [
    {
     "name": "stdout",
     "output_type": "stream",
     "text": [
      "X_train  (4800, 109)\n",
      "X_test   (1200, 109)\n",
      "Y_train  (4800, 2)\n",
      "Y_test   (1200, 2)\n",
      "The Spearman's correlation coefficient is: 0.283\n",
      "The Spearman's correlation coefficient is: 0.124\n"
     ]
    }
   ],
   "source": [
    "X = aes_mean1.values\n",
    "Y = ground_truth[['short-term_memorability','long-term_memorability']].values\n",
    "\n",
    "X_train,X_test,Y_train,Y_test = train_test_split(X,Y,test_size=0.2,random_state=42)\n",
    "\n",
    "print('X_train ', X_train.shape)\n",
    "print('X_test  ', X_test.shape)\n",
    "print('Y_train ', Y_train.shape)\n",
    "print('Y_test  ', Y_test.shape)\n",
    "\n",
    "aes_mean_lr = LinearRegression()\n",
    "aes_mean_lr.fit(X_train,Y_train)\n",
    "\n",
    "aes_mean_prediction = aes_mean_lr.predict(X_test)\n",
    "aes_mean_prediction\n",
    "\n",
    "Get_score(aes_mean_prediction, Y_test)"
   ]
  },
  {
   "cell_type": "markdown",
   "metadata": {},
   "source": [
    "**Results of Testing**"
   ]
  },
  {
   "cell_type": "markdown",
   "metadata": {},
   "source": [
    "From all the features tested,we see that the Captions with the Bagging Regressor gives us the best Spearman Scores in terms of the short-term scores and a combination of Captions and Multilayered Perceptron gives us the best long-term scores. "
   ]
  },
  {
   "cell_type": "code",
   "execution_count": 49,
   "metadata": {},
   "outputs": [
    {
     "name": "stdout",
     "output_type": "stream",
     "text": [
      "The Spearman's correlation coefficient is: 0.426\n",
      "The Spearman's correlation coefficient is: 0.163\n"
     ]
    }
   ],
   "source": [
    "#Captions and Bagging Regressor\n",
    "Get_score(caption_br_prediction, Y_test)"
   ]
  },
  {
   "cell_type": "code",
   "execution_count": 50,
   "metadata": {},
   "outputs": [
    {
     "name": "stdout",
     "output_type": "stream",
     "text": [
      "The Spearman's correlation coefficient is: 0.399\n",
      "The Spearman's correlation coefficient is: 0.179\n"
     ]
    }
   ],
   "source": [
    "#Captions and MLP\n",
    "Get_score(Y_prediction_val_MLP,Y_test)"
   ]
  },
  {
   "cell_type": "markdown",
   "metadata": {},
   "source": [
    "The long-term predictions are comparable for both the models but there is a large difference in the short-term scores. Therefore, for the predictions on the test set, I will be using the Bagging Regressor along with Captions."
   ]
  },
  {
   "cell_type": "markdown",
   "metadata": {},
   "source": [
    "# 5. Final Predictions"
   ]
  },
  {
   "cell_type": "markdown",
   "metadata": {},
   "source": [
    "**Loading Test-Set features**"
   ]
  },
  {
   "cell_type": "code",
   "execution_count": 51,
   "metadata": {},
   "outputs": [],
   "source": [
    "#Loading the captions from the test set\n",
    "caption_path_test = 'D:/DCU/2nd Semester/CA684 - Machine Learning/Assignment/Solution/Datasets/Test-Set/Captions_test/test-set-1_video-captions.txt'\n",
    "captions_test=read_caps(caption_path_test)"
   ]
  },
  {
   "cell_type": "code",
   "execution_count": 52,
   "metadata": {},
   "outputs": [
    {
     "data": {
      "text/html": [
       "<div>\n",
       "<style scoped>\n",
       "    .dataframe tbody tr th:only-of-type {\n",
       "        vertical-align: middle;\n",
       "    }\n",
       "\n",
       "    .dataframe tbody tr th {\n",
       "        vertical-align: top;\n",
       "    }\n",
       "\n",
       "    .dataframe thead th {\n",
       "        text-align: right;\n",
       "    }\n",
       "</style>\n",
       "<table border=\"1\" class=\"dataframe\">\n",
       "  <thead>\n",
       "    <tr style=\"text-align: right;\">\n",
       "      <th></th>\n",
       "      <th>video</th>\n",
       "      <th>caption</th>\n",
       "    </tr>\n",
       "  </thead>\n",
       "  <tbody>\n",
       "    <tr>\n",
       "      <th>0</th>\n",
       "      <td>video7494.webm</td>\n",
       "      <td>green-jeep-struggling-to-drive-over-huge-rocks</td>\n",
       "    </tr>\n",
       "    <tr>\n",
       "      <th>1</th>\n",
       "      <td>video7495.webm</td>\n",
       "      <td>hiking-woman-tourist-is-walking-forward-in-mou...</td>\n",
       "    </tr>\n",
       "  </tbody>\n",
       "</table>\n",
       "</div>"
      ],
      "text/plain": [
       "            video                                            caption\n",
       "0  video7494.webm     green-jeep-struggling-to-drive-over-huge-rocks\n",
       "1  video7495.webm  hiking-woman-tourist-is-walking-forward-in-mou..."
      ]
     },
     "execution_count": 52,
     "metadata": {},
     "output_type": "execute_result"
    }
   ],
   "source": [
    "#Printing out the loaded captions.\n",
    "captions_test.head(2)"
   ]
  },
  {
   "cell_type": "code",
   "execution_count": 53,
   "metadata": {},
   "outputs": [
    {
     "data": {
      "text/plain": [
       "(2000, 2)"
      ]
     },
     "execution_count": 53,
     "metadata": {},
     "output_type": "execute_result"
    }
   ],
   "source": [
    "captions_test.shape"
   ]
  },
  {
   "cell_type": "code",
   "execution_count": 54,
   "metadata": {},
   "outputs": [
    {
     "name": "stderr",
     "output_type": "stream",
     "text": [
      "Counting word occurrences\n",
      "0% [##############################] 100% | ETA: 00:00:00\n",
      "Total time elapsed: 00:00:00\n"
     ]
    },
    {
     "data": {
      "text/html": [
       "<div>\n",
       "<style scoped>\n",
       "    .dataframe tbody tr th:only-of-type {\n",
       "        vertical-align: middle;\n",
       "    }\n",
       "\n",
       "    .dataframe tbody tr th {\n",
       "        vertical-align: top;\n",
       "    }\n",
       "\n",
       "    .dataframe thead th {\n",
       "        text-align: right;\n",
       "    }\n",
       "</style>\n",
       "<table border=\"1\" class=\"dataframe\">\n",
       "  <thead>\n",
       "    <tr style=\"text-align: right;\">\n",
       "      <th></th>\n",
       "      <th>video</th>\n",
       "      <th>caption</th>\n",
       "    </tr>\n",
       "  </thead>\n",
       "  <tbody>\n",
       "    <tr>\n",
       "      <th>0</th>\n",
       "      <td>video7494.webm</td>\n",
       "      <td>green jeep struggling to drive over huge rocks</td>\n",
       "    </tr>\n",
       "    <tr>\n",
       "      <th>1</th>\n",
       "      <td>video7495.webm</td>\n",
       "      <td>hiking woman tourist is walking forward in mou...</td>\n",
       "    </tr>\n",
       "  </tbody>\n",
       "</table>\n",
       "</div>"
      ],
      "text/plain": [
       "            video                                            caption\n",
       "0  video7494.webm     green jeep struggling to drive over huge rocks\n",
       "1  video7495.webm  hiking woman tourist is walking forward in mou..."
      ]
     },
     "execution_count": 54,
     "metadata": {},
     "output_type": "execute_result"
    }
   ],
   "source": [
    "# Replace punctuations with space and convert words to lower case in captions_test\n",
    "counts = Counter()\n",
    "# setup prograss tracker\n",
    "pbar = pyprind.ProgBar(len(captions_test['caption']), title='Counting word occurrences')\n",
    "for i, cap in enumerate(captions_test['caption']):\n",
    "    \n",
    "    text = ''.join([c if c not in punctuation else ' ' for c in cap]).lower()\n",
    "    captions_test.loc[i,'caption'] = text\n",
    "    pbar.update()\n",
    "    counts.update(text.split())\n",
    "\n",
    "captions_test.head(2)    "
   ]
  },
  {
   "cell_type": "code",
   "execution_count": 55,
   "metadata": {},
   "outputs": [
    {
     "data": {
      "text/html": [
       "<div>\n",
       "<style scoped>\n",
       "    .dataframe tbody tr th:only-of-type {\n",
       "        vertical-align: middle;\n",
       "    }\n",
       "\n",
       "    .dataframe tbody tr th {\n",
       "        vertical-align: top;\n",
       "    }\n",
       "\n",
       "    .dataframe thead th {\n",
       "        text-align: right;\n",
       "    }\n",
       "</style>\n",
       "<table border=\"1\" class=\"dataframe\">\n",
       "  <thead>\n",
       "    <tr style=\"text-align: right;\">\n",
       "      <th></th>\n",
       "      <th>video</th>\n",
       "      <th>caption</th>\n",
       "    </tr>\n",
       "  </thead>\n",
       "  <tbody>\n",
       "    <tr>\n",
       "      <th>0</th>\n",
       "      <td>video7494.webm</td>\n",
       "      <td>[green, jeep, struggling, to, drive, over, hug...</td>\n",
       "    </tr>\n",
       "    <tr>\n",
       "      <th>1</th>\n",
       "      <td>video7495.webm</td>\n",
       "      <td>[hiking, woman, tourist, is, walking, forward,...</td>\n",
       "    </tr>\n",
       "  </tbody>\n",
       "</table>\n",
       "</div>"
      ],
      "text/plain": [
       "            video                                            caption\n",
       "0  video7494.webm  [green, jeep, struggling, to, drive, over, hug...\n",
       "1  video7495.webm  [hiking, woman, tourist, is, walking, forward,..."
      ]
     },
     "execution_count": 55,
     "metadata": {},
     "output_type": "execute_result"
    }
   ],
   "source": [
    "#Tokenization\n",
    "\n",
    "def identify_tokens(row):\n",
    "    review = row['caption']\n",
    "    tokens = nltk.word_tokenize(review)\n",
    "    # taken only words (not punctuation)\n",
    "    token_words = [w for w in tokens if w.isalpha()]\n",
    "    return token_words\n",
    "\n",
    "captions_test['caption'] = captions_test.apply(identify_tokens, axis=1)\n",
    "captions_test.head(2)"
   ]
  },
  {
   "cell_type": "code",
   "execution_count": 56,
   "metadata": {},
   "outputs": [
    {
     "data": {
      "text/html": [
       "<div>\n",
       "<style scoped>\n",
       "    .dataframe tbody tr th:only-of-type {\n",
       "        vertical-align: middle;\n",
       "    }\n",
       "\n",
       "    .dataframe tbody tr th {\n",
       "        vertical-align: top;\n",
       "    }\n",
       "\n",
       "    .dataframe thead th {\n",
       "        text-align: right;\n",
       "    }\n",
       "</style>\n",
       "<table border=\"1\" class=\"dataframe\">\n",
       "  <thead>\n",
       "    <tr style=\"text-align: right;\">\n",
       "      <th></th>\n",
       "      <th>video</th>\n",
       "      <th>caption</th>\n",
       "    </tr>\n",
       "  </thead>\n",
       "  <tbody>\n",
       "    <tr>\n",
       "      <th>0</th>\n",
       "      <td>video7494.webm</td>\n",
       "      <td>[green, jeep, struggl, to, drive, over, huge, ...</td>\n",
       "    </tr>\n",
       "    <tr>\n",
       "      <th>1</th>\n",
       "      <td>video7495.webm</td>\n",
       "      <td>[hike, woman, tourist, is, walk, forward, in, ...</td>\n",
       "    </tr>\n",
       "  </tbody>\n",
       "</table>\n",
       "</div>"
      ],
      "text/plain": [
       "            video                                            caption\n",
       "0  video7494.webm  [green, jeep, struggl, to, drive, over, huge, ...\n",
       "1  video7495.webm  [hike, woman, tourist, is, walk, forward, in, ..."
      ]
     },
     "execution_count": 56,
     "metadata": {},
     "output_type": "execute_result"
    }
   ],
   "source": [
    "#Stemming\n",
    "from nltk.stem import PorterStemmer\n",
    "stemming = PorterStemmer()\n",
    "\n",
    "def stem_list(row):\n",
    "    my_list = row['caption']\n",
    "    stemmed_list = [stemming.stem(word) for word in my_list]\n",
    "    return (stemmed_list)\n",
    "\n",
    "captions_test['caption'] = captions_test.apply(stem_list, axis=1)\n",
    "captions_test.head(2)"
   ]
  },
  {
   "cell_type": "code",
   "execution_count": 57,
   "metadata": {},
   "outputs": [
    {
     "data": {
      "text/html": [
       "<div>\n",
       "<style scoped>\n",
       "    .dataframe tbody tr th:only-of-type {\n",
       "        vertical-align: middle;\n",
       "    }\n",
       "\n",
       "    .dataframe tbody tr th {\n",
       "        vertical-align: top;\n",
       "    }\n",
       "\n",
       "    .dataframe thead th {\n",
       "        text-align: right;\n",
       "    }\n",
       "</style>\n",
       "<table border=\"1\" class=\"dataframe\">\n",
       "  <thead>\n",
       "    <tr style=\"text-align: right;\">\n",
       "      <th></th>\n",
       "      <th>video</th>\n",
       "      <th>caption</th>\n",
       "    </tr>\n",
       "  </thead>\n",
       "  <tbody>\n",
       "    <tr>\n",
       "      <th>0</th>\n",
       "      <td>video7494.webm</td>\n",
       "      <td>[green, jeep, struggl, drive, huge, rock]</td>\n",
       "    </tr>\n",
       "    <tr>\n",
       "      <th>1</th>\n",
       "      <td>video7495.webm</td>\n",
       "      <td>[hike, woman, tourist, walk, forward, mountain...</td>\n",
       "    </tr>\n",
       "  </tbody>\n",
       "</table>\n",
       "</div>"
      ],
      "text/plain": [
       "            video                                            caption\n",
       "0  video7494.webm          [green, jeep, struggl, drive, huge, rock]\n",
       "1  video7495.webm  [hike, woman, tourist, walk, forward, mountain..."
      ]
     },
     "execution_count": 57,
     "metadata": {},
     "output_type": "execute_result"
    }
   ],
   "source": [
    "#Removing the stopwords\n",
    "from nltk.corpus import stopwords\n",
    "stops = set(stopwords.words(\"english\"))                  \n",
    "\n",
    "def remove_stops(row):\n",
    "    my_list = row['caption']\n",
    "    meaningful_words = [w for w in my_list if not w in stops]\n",
    "    return (meaningful_words)\n",
    "\n",
    "captions_test['caption'] = captions_test.apply(remove_stops, axis=1)\n",
    "captions_test.head(2)"
   ]
  },
  {
   "cell_type": "code",
   "execution_count": 58,
   "metadata": {},
   "outputs": [
    {
     "data": {
      "text/html": [
       "<div>\n",
       "<style scoped>\n",
       "    .dataframe tbody tr th:only-of-type {\n",
       "        vertical-align: middle;\n",
       "    }\n",
       "\n",
       "    .dataframe tbody tr th {\n",
       "        vertical-align: top;\n",
       "    }\n",
       "\n",
       "    .dataframe thead th {\n",
       "        text-align: right;\n",
       "    }\n",
       "</style>\n",
       "<table border=\"1\" class=\"dataframe\">\n",
       "  <thead>\n",
       "    <tr style=\"text-align: right;\">\n",
       "      <th></th>\n",
       "      <th>video</th>\n",
       "      <th>caption</th>\n",
       "    </tr>\n",
       "  </thead>\n",
       "  <tbody>\n",
       "    <tr>\n",
       "      <th>0</th>\n",
       "      <td>video7494.webm</td>\n",
       "      <td>green jeep struggl drive huge rock</td>\n",
       "    </tr>\n",
       "    <tr>\n",
       "      <th>1</th>\n",
       "      <td>video7495.webm</td>\n",
       "      <td>hike woman tourist walk forward mountain sunse...</td>\n",
       "    </tr>\n",
       "  </tbody>\n",
       "</table>\n",
       "</div>"
      ],
      "text/plain": [
       "            video                                            caption\n",
       "0  video7494.webm                 green jeep struggl drive huge rock\n",
       "1  video7495.webm  hike woman tourist walk forward mountain sunse..."
      ]
     },
     "execution_count": 58,
     "metadata": {},
     "output_type": "execute_result"
    }
   ],
   "source": [
    "#Rejoining the words\n",
    "def rejoin_words(row):\n",
    "    my_list = row['caption']\n",
    "    joined_words = ( \" \".join(my_list))\n",
    "    return joined_words\n",
    "\n",
    "captions_test['caption'] = captions_test.apply(rejoin_words, axis=1)\n",
    "captions_test.head(2)"
   ]
  },
  {
   "cell_type": "markdown",
   "metadata": {},
   "source": [
    "**Hashing Vectorizer**"
   ]
  },
  {
   "cell_type": "code",
   "execution_count": 59,
   "metadata": {},
   "outputs": [],
   "source": [
    "vectorizer = HashingVectorizer(n_features=3112)\n",
    "caption_test = vectorizer.fit_transform(captions_test['caption']).toarray()"
   ]
  },
  {
   "cell_type": "code",
   "execution_count": 60,
   "metadata": {},
   "outputs": [
    {
     "data": {
      "text/plain": [
       "(2000, 3112)"
      ]
     },
     "execution_count": 60,
     "metadata": {},
     "output_type": "execute_result"
    }
   ],
   "source": [
    "caption_test.shape"
   ]
  },
  {
   "cell_type": "code",
   "execution_count": 61,
   "metadata": {},
   "outputs": [
    {
     "data": {
      "text/plain": [
       "(6000, 3112)"
      ]
     },
     "execution_count": 61,
     "metadata": {},
     "output_type": "execute_result"
    }
   ],
   "source": [
    "caption.shape"
   ]
  },
  {
   "cell_type": "markdown",
   "metadata": {},
   "source": [
    "**Training on the dev-set**"
   ]
  },
  {
   "cell_type": "code",
   "execution_count": 62,
   "metadata": {},
   "outputs": [
    {
     "name": "stdout",
     "output_type": "stream",
     "text": [
      "X_train  (6000, 3112)\n",
      "Y_train  (6000, 2)\n"
     ]
    },
    {
     "data": {
      "text/plain": [
       "BaggingRegressor(base_estimator=DecisionTreeRegressor(criterion='mse',\n",
       "                                                      max_depth=None,\n",
       "                                                      max_features=None,\n",
       "                                                      max_leaf_nodes=None,\n",
       "                                                      min_impurity_decrease=0.0,\n",
       "                                                      min_impurity_split=None,\n",
       "                                                      min_samples_leaf=1,\n",
       "                                                      min_samples_split=2,\n",
       "                                                      min_weight_fraction_leaf=0.0,\n",
       "                                                      presort=False,\n",
       "                                                      random_state=None,\n",
       "                                                      splitter='random'),\n",
       "                 bootstrap=True, bootstrap_features=False, max_features=1.0,\n",
       "                 max_samples=1.0, n_estimators=100, n_jobs=None,\n",
       "                 oob_score=False, random_state=None, verbose=0,\n",
       "                 warm_start=False)"
      ]
     },
     "execution_count": 62,
     "metadata": {},
     "output_type": "execute_result"
    }
   ],
   "source": [
    "X = caption\n",
    "Y = ground_truth[['short-term_memorability','long-term_memorability']].values\n",
    "\n",
    "print('X_train ', X.shape)\n",
    "print('Y_train ', Y.shape)\n",
    "\n",
    "model = BaggingRegressor(base_estimator = DecisionTreeRegressor(splitter = 'random'),n_estimators=100)\n",
    "model.fit(X,Y)\n"
   ]
  },
  {
   "cell_type": "markdown",
   "metadata": {},
   "source": [
    "**Predicting the short term and long term meorability values on the test-set.**"
   ]
  },
  {
   "cell_type": "code",
   "execution_count": 63,
   "metadata": {},
   "outputs": [
    {
     "data": {
      "text/plain": [
       "array([[0.8848325 , 0.79134   ],\n",
       "       [0.75125856, 0.78156255],\n",
       "       [0.9146225 , 0.82001167],\n",
       "       ...,\n",
       "       [0.89213167, 0.80680333],\n",
       "       [0.90042567, 0.83009833],\n",
       "       [0.88202   , 0.83108   ]])"
      ]
     },
     "execution_count": 63,
     "metadata": {},
     "output_type": "execute_result"
    }
   ],
   "source": [
    "Y_prediction_val = model.predict(caption_test)\n",
    "Y_prediction_val"
   ]
  },
  {
   "cell_type": "code",
   "execution_count": 64,
   "metadata": {},
   "outputs": [
    {
     "data": {
      "text/plain": [
       "(2000, 2)"
      ]
     },
     "execution_count": 64,
     "metadata": {},
     "output_type": "execute_result"
    }
   ],
   "source": [
    "Y_prediction_val.shape"
   ]
  },
  {
   "cell_type": "markdown",
   "metadata": {},
   "source": [
    "**Exporting the predicted values to a csv**"
   ]
  },
  {
   "cell_type": "code",
   "execution_count": 65,
   "metadata": {
    "colab": {},
    "colab_type": "code",
    "id": "zS5kPci3mhI1"
   },
   "outputs": [],
   "source": [
    "np.savetxt(\"D:/DCU/2nd Semester/CA684 - Machine Learning/Assignment/Solution/predictions.csv\", Y_prediction_val, delimiter = \",\",header=\"short-term_memorability,long-term_memorability\",comments='')"
   ]
  },
  {
   "cell_type": "code",
   "execution_count": 66,
   "metadata": {},
   "outputs": [],
   "source": [
    "#Loadting the ground truth values from the test set\n",
    "ground_truth_path_test = 'D:/DCU/2nd Semester/CA684 - Machine Learning/Assignment/Solution/Datasets/Test-Set/Ground-truth_test/ground_truth_template.csv'\n",
    "ground_truth_test=pd.read_csv(ground_truth_path_test)"
   ]
  },
  {
   "cell_type": "code",
   "execution_count": 67,
   "metadata": {},
   "outputs": [
    {
     "data": {
      "text/html": [
       "<div>\n",
       "<style scoped>\n",
       "    .dataframe tbody tr th:only-of-type {\n",
       "        vertical-align: middle;\n",
       "    }\n",
       "\n",
       "    .dataframe tbody tr th {\n",
       "        vertical-align: top;\n",
       "    }\n",
       "\n",
       "    .dataframe thead th {\n",
       "        text-align: right;\n",
       "    }\n",
       "</style>\n",
       "<table border=\"1\" class=\"dataframe\">\n",
       "  <thead>\n",
       "    <tr style=\"text-align: right;\">\n",
       "      <th></th>\n",
       "      <th>video</th>\n",
       "      <th>short-term_memorability</th>\n",
       "      <th>nb_short-term_annotations</th>\n",
       "      <th>long-term_memorability</th>\n",
       "      <th>nb_long-term_annotations</th>\n",
       "    </tr>\n",
       "  </thead>\n",
       "  <tbody>\n",
       "    <tr>\n",
       "      <th>0</th>\n",
       "      <td>7494</td>\n",
       "      <td>NaN</td>\n",
       "      <td>33</td>\n",
       "      <td>NaN</td>\n",
       "      <td>12</td>\n",
       "    </tr>\n",
       "    <tr>\n",
       "      <th>1</th>\n",
       "      <td>7495</td>\n",
       "      <td>NaN</td>\n",
       "      <td>34</td>\n",
       "      <td>NaN</td>\n",
       "      <td>10</td>\n",
       "    </tr>\n",
       "  </tbody>\n",
       "</table>\n",
       "</div>"
      ],
      "text/plain": [
       "   video  short-term_memorability  nb_short-term_annotations  \\\n",
       "0   7494                      NaN                         33   \n",
       "1   7495                      NaN                         34   \n",
       "\n",
       "   long-term_memorability  nb_long-term_annotations  \n",
       "0                     NaN                        12  \n",
       "1                     NaN                        10  "
      ]
     },
     "execution_count": 67,
     "metadata": {},
     "output_type": "execute_result"
    }
   ],
   "source": [
    "ground_truth_test.head(2)"
   ]
  },
  {
   "cell_type": "code",
   "execution_count": 68,
   "metadata": {},
   "outputs": [
    {
     "data": {
      "text/plain": [
       "(2000, 5)"
      ]
     },
     "execution_count": 68,
     "metadata": {},
     "output_type": "execute_result"
    }
   ],
   "source": [
    "ground_truth_test.shape"
   ]
  },
  {
   "cell_type": "code",
   "execution_count": 69,
   "metadata": {},
   "outputs": [
    {
     "data": {
      "text/plain": [
       "(2000, 2)"
      ]
     },
     "execution_count": 69,
     "metadata": {},
     "output_type": "execute_result"
    }
   ],
   "source": [
    "captions_test.shape"
   ]
  },
  {
   "cell_type": "code",
   "execution_count": 70,
   "metadata": {},
   "outputs": [
    {
     "data": {
      "text/html": [
       "<div>\n",
       "<style scoped>\n",
       "    .dataframe tbody tr th:only-of-type {\n",
       "        vertical-align: middle;\n",
       "    }\n",
       "\n",
       "    .dataframe tbody tr th {\n",
       "        vertical-align: top;\n",
       "    }\n",
       "\n",
       "    .dataframe thead th {\n",
       "        text-align: right;\n",
       "    }\n",
       "</style>\n",
       "<table border=\"1\" class=\"dataframe\">\n",
       "  <thead>\n",
       "    <tr style=\"text-align: right;\">\n",
       "      <th></th>\n",
       "      <th>video</th>\n",
       "      <th>caption</th>\n",
       "    </tr>\n",
       "  </thead>\n",
       "  <tbody>\n",
       "    <tr>\n",
       "      <th>0</th>\n",
       "      <td>video7494.webm</td>\n",
       "      <td>green jeep struggl drive huge rock</td>\n",
       "    </tr>\n",
       "    <tr>\n",
       "      <th>1</th>\n",
       "      <td>video7495.webm</td>\n",
       "      <td>hike woman tourist walk forward mountain sunse...</td>\n",
       "    </tr>\n",
       "  </tbody>\n",
       "</table>\n",
       "</div>"
      ],
      "text/plain": [
       "            video                                            caption\n",
       "0  video7494.webm                 green jeep struggl drive huge rock\n",
       "1  video7495.webm  hike woman tourist walk forward mountain sunse..."
      ]
     },
     "execution_count": 70,
     "metadata": {},
     "output_type": "execute_result"
    }
   ],
   "source": [
    "captions_test.head(2)"
   ]
  },
  {
   "cell_type": "code",
   "execution_count": 71,
   "metadata": {},
   "outputs": [],
   "source": [
    "#Loading the predicted values\n",
    "predictions_path = 'D:/DCU/2nd Semester/CA684 - Machine Learning/Assignment/Solution/predictions.csv'\n",
    "df=pd.read_csv(predictions_path)"
   ]
  },
  {
   "cell_type": "code",
   "execution_count": 72,
   "metadata": {},
   "outputs": [
    {
     "data": {
      "text/html": [
       "<div>\n",
       "<style scoped>\n",
       "    .dataframe tbody tr th:only-of-type {\n",
       "        vertical-align: middle;\n",
       "    }\n",
       "\n",
       "    .dataframe tbody tr th {\n",
       "        vertical-align: top;\n",
       "    }\n",
       "\n",
       "    .dataframe thead th {\n",
       "        text-align: right;\n",
       "    }\n",
       "</style>\n",
       "<table border=\"1\" class=\"dataframe\">\n",
       "  <thead>\n",
       "    <tr style=\"text-align: right;\">\n",
       "      <th></th>\n",
       "      <th>short-term_memorability</th>\n",
       "      <th>long-term_memorability</th>\n",
       "    </tr>\n",
       "  </thead>\n",
       "  <tbody>\n",
       "    <tr>\n",
       "      <th>0</th>\n",
       "      <td>0.884832</td>\n",
       "      <td>0.791340</td>\n",
       "    </tr>\n",
       "    <tr>\n",
       "      <th>1</th>\n",
       "      <td>0.751259</td>\n",
       "      <td>0.781563</td>\n",
       "    </tr>\n",
       "  </tbody>\n",
       "</table>\n",
       "</div>"
      ],
      "text/plain": [
       "   short-term_memorability  long-term_memorability\n",
       "0                 0.884832                0.791340\n",
       "1                 0.751259                0.781563"
      ]
     },
     "execution_count": 72,
     "metadata": {},
     "output_type": "execute_result"
    }
   ],
   "source": [
    "df.head(2)"
   ]
  },
  {
   "cell_type": "code",
   "execution_count": 73,
   "metadata": {},
   "outputs": [
    {
     "data": {
      "text/plain": [
       "(2000, 2)"
      ]
     },
     "execution_count": 73,
     "metadata": {},
     "output_type": "execute_result"
    }
   ],
   "source": [
    "df.shape"
   ]
  },
  {
   "cell_type": "markdown",
   "metadata": {},
   "source": [
    "We see that there are 2000 predicted values. This means that, we have trained on the whole dev-set and have predicted the short-term and long-term memorability values of the test-set."
   ]
  },
  {
   "cell_type": "code",
   "execution_count": 74,
   "metadata": {},
   "outputs": [
    {
     "data": {
      "text/html": [
       "<div>\n",
       "<style scoped>\n",
       "    .dataframe tbody tr th:only-of-type {\n",
       "        vertical-align: middle;\n",
       "    }\n",
       "\n",
       "    .dataframe tbody tr th {\n",
       "        vertical-align: top;\n",
       "    }\n",
       "\n",
       "    .dataframe thead th {\n",
       "        text-align: right;\n",
       "    }\n",
       "</style>\n",
       "<table border=\"1\" class=\"dataframe\">\n",
       "  <thead>\n",
       "    <tr style=\"text-align: right;\">\n",
       "      <th></th>\n",
       "      <th>video</th>\n",
       "      <th>short-term_memorability</th>\n",
       "      <th>nb_short-term_annotations</th>\n",
       "      <th>long-term_memorability</th>\n",
       "      <th>nb_long-term_annotations</th>\n",
       "    </tr>\n",
       "  </thead>\n",
       "  <tbody>\n",
       "    <tr>\n",
       "      <th>0</th>\n",
       "      <td>7494</td>\n",
       "      <td>0.884832</td>\n",
       "      <td>33</td>\n",
       "      <td>0.791340</td>\n",
       "      <td>12</td>\n",
       "    </tr>\n",
       "    <tr>\n",
       "      <th>1</th>\n",
       "      <td>7495</td>\n",
       "      <td>0.751259</td>\n",
       "      <td>34</td>\n",
       "      <td>0.781563</td>\n",
       "      <td>10</td>\n",
       "    </tr>\n",
       "    <tr>\n",
       "      <th>2</th>\n",
       "      <td>7496</td>\n",
       "      <td>0.914623</td>\n",
       "      <td>32</td>\n",
       "      <td>0.820012</td>\n",
       "      <td>13</td>\n",
       "    </tr>\n",
       "    <tr>\n",
       "      <th>3</th>\n",
       "      <td>7497</td>\n",
       "      <td>0.889209</td>\n",
       "      <td>33</td>\n",
       "      <td>0.811513</td>\n",
       "      <td>10</td>\n",
       "    </tr>\n",
       "    <tr>\n",
       "      <th>4</th>\n",
       "      <td>7498</td>\n",
       "      <td>0.835912</td>\n",
       "      <td>33</td>\n",
       "      <td>0.723598</td>\n",
       "      <td>10</td>\n",
       "    </tr>\n",
       "  </tbody>\n",
       "</table>\n",
       "</div>"
      ],
      "text/plain": [
       "   video  short-term_memorability  nb_short-term_annotations  \\\n",
       "0   7494                 0.884832                         33   \n",
       "1   7495                 0.751259                         34   \n",
       "2   7496                 0.914623                         32   \n",
       "3   7497                 0.889209                         33   \n",
       "4   7498                 0.835912                         33   \n",
       "\n",
       "   long-term_memorability  nb_long-term_annotations  \n",
       "0                0.791340                        12  \n",
       "1                0.781563                        10  \n",
       "2                0.820012                        13  \n",
       "3                0.811513                        10  \n",
       "4                0.723598                        10  "
      ]
     },
     "execution_count": 74,
     "metadata": {},
     "output_type": "execute_result"
    }
   ],
   "source": [
    "#Adding the predicted values to the ground truth values\n",
    "ground_truth_test['short-term_memorability'] = df['short-term_memorability']\n",
    "ground_truth_test['long-term_memorability'] = df['long-term_memorability']\n",
    "ground_truth_test.head()"
   ]
  },
  {
   "cell_type": "code",
   "execution_count": 75,
   "metadata": {},
   "outputs": [],
   "source": [
    "#Exporting the final ground truth values as a csv file\n",
    "ground_truth_test.to_csv(\"D:/DCU/2nd Semester/CA684 - Machine Learning/Assignment/Solution/Final Predictions.csv\")"
   ]
  }
 ],
 "metadata": {
  "accelerator": "TPU",
  "colab": {
   "authorship_tag": "ABX9TyPYZ4DN4cLY3ruQfWv36wrV",
   "collapsed_sections": [],
   "machine_shape": "hm",
   "name": "Captions + HMP.ipynb",
   "provenance": []
  },
  "kernelspec": {
   "display_name": "Python 3",
   "language": "python",
   "name": "python3"
  },
  "language_info": {
   "codemirror_mode": {
    "name": "ipython",
    "version": 3
   },
   "file_extension": ".py",
   "mimetype": "text/x-python",
   "name": "python",
   "nbconvert_exporter": "python",
   "pygments_lexer": "ipython3",
   "version": "3.7.3"
  }
 },
 "nbformat": 4,
 "nbformat_minor": 1
}
